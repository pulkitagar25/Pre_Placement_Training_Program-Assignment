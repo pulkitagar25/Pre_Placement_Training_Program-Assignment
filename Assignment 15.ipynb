{
  "nbformat": 4,
  "nbformat_minor": 0,
  "metadata": {
    "colab": {
      "provenance": []
    },
    "kernelspec": {
      "name": "python3",
      "display_name": "Python 3"
    },
    "language_info": {
      "name": "python"
    }
  },
  "cells": [
    {
      "cell_type": "markdown",
      "source": [
        "Question 1\n",
        "\n",
        "Given an array arr[ ] of size N having elements, the task is to find the next greater element for each element of the array in order of their appearance in the array.Next greater element of an element in the array is the nearest element on the right which is greater than the current element.If there does not exist next greater of current element, then next greater element for current element is -1. For example, next greater of the last element is always -1."
      ],
      "metadata": {
        "id": "6eAZuthD6h15"
      }
    },
    {
      "cell_type": "code",
      "source": [
        "def printNGE(arr):\n",
        "\n",
        "    for i in range(0, len(arr), 1):\n",
        "\n",
        "        next = -1\n",
        "        for j in range(i+1, len(arr), 1):\n",
        "            if arr[i] < arr[j]:\n",
        "                next = arr[j]\n",
        "                break\n",
        "\n",
        "        print(str(arr[i]) + \" -- \" + str(next))\n",
        "\n",
        "\n",
        "arr = [1 ,3, 2, 4]\n",
        "printNGE(arr)"
      ],
      "metadata": {
        "colab": {
          "base_uri": "https://localhost:8080/"
        },
        "id": "aEWUlR4h6h-D",
        "outputId": "79ba2fde-b20f-4e2b-fa8e-bfb27f256e05"
      },
      "execution_count": 3,
      "outputs": [
        {
          "output_type": "stream",
          "name": "stdout",
          "text": [
            "1 -- 3\n",
            "3 -- 4\n",
            "2 -- 4\n",
            "4 -- -1\n"
          ]
        }
      ]
    },
    {
      "cell_type": "markdown",
      "source": [
        "Question 2\n",
        "\n",
        "Given an array a of integers of length n, find the nearest smaller number for every element such that the smaller element is on left side.If no small element present on the left print -1."
      ],
      "metadata": {
        "id": "vu6WXrB-6iF0"
      }
    },
    {
      "cell_type": "code",
      "source": [
        "def printPrevSmaller(arr, n):\n",
        "\n",
        "    print(\"_, \", end=\"\")\n",
        "\n",
        "    for i in range(1, n ):\n",
        "\n",
        "        for j in range(i-1 ,-2 ,-1):\n",
        "\n",
        "            if (arr[j] < arr[i]):\n",
        "\n",
        "                print(arr[j] ,\", \",\n",
        "                            end=\"\")\n",
        "                break\n",
        "\n",
        "        if (j == -1):\n",
        "            print(\"_, \", end=\"\")\n",
        "\n",
        "arr = [1, 3, 0, 2, 5]\n",
        "n = len(arr)\n",
        "printPrevSmaller(arr, n)"
      ],
      "metadata": {
        "colab": {
          "base_uri": "https://localhost:8080/"
        },
        "id": "eB--8zaj6iNw",
        "outputId": "288d3178-3d71-4982-9e36-1bb4d36e39dd"
      },
      "execution_count": 2,
      "outputs": [
        {
          "output_type": "stream",
          "name": "stdout",
          "text": [
            "_, 1 , _, 0 , 2 , "
          ]
        }
      ]
    },
    {
      "cell_type": "markdown",
      "source": [
        "Question 3\n",
        "\n",
        "Implement a Stack using two queues q1 and q2."
      ],
      "metadata": {
        "id": "x5W70Cs96iUz"
      }
    },
    {
      "cell_type": "code",
      "source": [
        "from _collections import deque\n",
        "\n",
        "class Stack:\n",
        "\n",
        "    def __init__(self):\n",
        "\n",
        "        self.q1 = deque()\n",
        "        self.q2 = deque()\n",
        "\n",
        "    def push(self, x):\n",
        "\n",
        "        self.q2.append(x)\n",
        "\n",
        "        while (self.q1):\n",
        "            self.q2.append(self.q1.popleft())\n",
        "\n",
        "        self.q1, self.q2 = self.q2, self.q1\n",
        "\n",
        "    def pop(self):\n",
        "\n",
        "        if self.q1:\n",
        "            self.q1.popleft()\n",
        "\n",
        "    def top(self):\n",
        "        if (self.q1):\n",
        "            return self.q1[0]\n",
        "        return None\n",
        "\n",
        "    def size(self):\n",
        "        return len(self.q1)\n",
        "\n",
        "\n",
        "if __name__ == '__main__':\n",
        "    s = Stack()\n",
        "    s.push(1)\n",
        "    s.push(2)\n",
        "    s.push(3)\n",
        "\n",
        "    print(\"current size: \", s.size())\n",
        "    print(s.top())\n",
        "    s.pop()\n",
        "    print(s.top())\n",
        "    s.pop()\n",
        "    print(s.top())\n",
        "\n",
        "    print(\"current size: \", s.size())"
      ],
      "metadata": {
        "colab": {
          "base_uri": "https://localhost:8080/"
        },
        "id": "SzMA-ksu6idI",
        "outputId": "0253d693-a0d0-486b-d65e-62e51df0f87d"
      },
      "execution_count": 4,
      "outputs": [
        {
          "output_type": "stream",
          "name": "stdout",
          "text": [
            "current size:  3\n",
            "3\n",
            "2\n",
            "1\n",
            "current size:  1\n"
          ]
        }
      ]
    },
    {
      "cell_type": "markdown",
      "source": [
        "Question 4\n",
        "\n",
        "You are given a stack St. You have to reverse the stack using recursion."
      ],
      "metadata": {
        "id": "up4TdrJM6ijt"
      }
    },
    {
      "cell_type": "code",
      "source": [
        "def insertAtBottom(stack, item):\n",
        "    if isEmpty(stack):\n",
        "        push(stack, item)\n",
        "    else:\n",
        "        temp = pop(stack)\n",
        "        insertAtBottom(stack, item)\n",
        "        push(stack, temp)\n",
        "\n",
        "def reverse(stack):\n",
        "    if not isEmpty(stack):\n",
        "        temp = pop(stack)\n",
        "        reverse(stack)\n",
        "        insertAtBottom(stack, temp)\n",
        "\n",
        "\n",
        "\n",
        "def createStack():\n",
        "    stack = []\n",
        "    return stack\n",
        "\n",
        "\n",
        "\n",
        "\n",
        "def isEmpty(stack):\n",
        "    return len(stack) == 0\n",
        "\n",
        "\n",
        "\n",
        "def push(stack, item):\n",
        "    stack.append(item)\n",
        "\n",
        "\n",
        "def pop(stack):\n",
        "\n",
        "    if(isEmpty(stack)):\n",
        "        print(\"Stack Underflow \")\n",
        "        exit(1)\n",
        "\n",
        "    return stack.pop()\n",
        "\n",
        "\n",
        "\n",
        "def prints(stack):\n",
        "    for i in range(len(stack)-1, -1, -1):\n",
        "        print(stack[i], end=' ')\n",
        "    print()\n",
        "\n",
        "\n",
        "stack = createStack()\n",
        "push(stack, str(4))\n",
        "push(stack, str(3))\n",
        "push(stack, str(2))\n",
        "push(stack, str(1))\n",
        "print(\"Original Stack \")\n",
        "prints(stack)\n",
        "\n",
        "reverse(stack)\n",
        "\n",
        "print(\"Reversed Stack \")\n",
        "prints(stack)"
      ],
      "metadata": {
        "colab": {
          "base_uri": "https://localhost:8080/"
        },
        "id": "kButTM1S6iqk",
        "outputId": "633fe3f5-a13e-49c5-b05a-d56a3797758f"
      },
      "execution_count": 5,
      "outputs": [
        {
          "output_type": "stream",
          "name": "stdout",
          "text": [
            "Original Stack \n",
            "1 2 3 4 \n",
            "Reversed Stack \n",
            "4 3 2 1 \n"
          ]
        }
      ]
    },
    {
      "cell_type": "markdown",
      "source": [
        "Question 5\n",
        "\n",
        "You are given a string S, the task is to reverse the string using stack."
      ],
      "metadata": {
        "id": "fItaZfEp6ixl"
      }
    },
    {
      "cell_type": "code",
      "source": [
        "def createStack():\n",
        "    stack = []\n",
        "    return stack\n",
        "\n",
        "def size(stack):\n",
        "    return len(stack)\n",
        "\n",
        "def isEmpty(stack):\n",
        "    if size(stack) == 0:\n",
        "        return true\n",
        "\n",
        "\n",
        "def push(stack, item):\n",
        "    stack.append(item)\n",
        "\n",
        "def pop(stack):\n",
        "    if isEmpty(stack):\n",
        "        return\n",
        "    return stack.pop()\n",
        "\n",
        "def reverse(string):\n",
        "    n = len(string)\n",
        "\n",
        "    stack = createStack()\n",
        "\n",
        "    for i in range(0, n, 1):\n",
        "        push(stack, string[i])\n",
        "\n",
        "    string = \"\"\n",
        "\n",
        "    for i in range(0, n, 1):\n",
        "        string += pop(stack)\n",
        "\n",
        "    return string\n",
        "\n",
        "\n",
        "string = \"GeeksforGeeks\"\n",
        "string = reverse(string)\n",
        "print(\"Reversed string is \" + string)"
      ],
      "metadata": {
        "colab": {
          "base_uri": "https://localhost:8080/"
        },
        "id": "mI61OIWT6i55",
        "outputId": "9153b7ed-67cb-4301-ba15-7815a1bcac9e"
      },
      "execution_count": 6,
      "outputs": [
        {
          "output_type": "stream",
          "name": "stdout",
          "text": [
            "Reversed string is skeeGrofskeeG\n"
          ]
        }
      ]
    },
    {
      "cell_type": "markdown",
      "source": [
        "Question 6\n",
        "\n",
        "Given string S representing a postfix expression, the task is to evaluate the expression and find the final value. Operators will only include the basic arithmetic operators like *, /, + and -."
      ],
      "metadata": {
        "id": "pbq9DUR96jBs"
      }
    },
    {
      "cell_type": "code",
      "source": [],
      "metadata": {
        "id": "qnger-tM6jIw"
      },
      "execution_count": null,
      "outputs": []
    },
    {
      "cell_type": "markdown",
      "source": [
        "Question 7\n",
        "\n",
        "Design a stack that supports push, pop, top, and retrieving the minimum element in constant time"
      ],
      "metadata": {
        "id": "Q3SdIWla6jQh"
      }
    },
    {
      "cell_type": "code",
      "source": [
        "class Node:\n",
        "    def __init__(self, value):\n",
        "        self.value = value\n",
        "        self.next = None\n",
        "\n",
        "    def __str__(self):\n",
        "        return \"Node({})\".format(self.value)\n",
        "\n",
        "    __repr__ = __str__\n",
        "\n",
        "\n",
        "class Stack:\n",
        "    def __init__(self):\n",
        "        self.top = None\n",
        "        self.count = 0\n",
        "        self.minimum = None\n",
        "\n",
        "    def __str__(self):\n",
        "        temp = self.top\n",
        "        out = []\n",
        "        while temp:\n",
        "            out.append(str(temp.value))\n",
        "            temp = temp.next\n",
        "        out = '\\n'.join(out)\n",
        "        return ('Top {} \\n\\nStack :\\n{}'.format(self.top, out))\n",
        "\n",
        "    __repr__ = __str__\n",
        "\n",
        "    def getMin(self):\n",
        "        if self.top is None:\n",
        "            return \"Stack is empty\"\n",
        "        else:\n",
        "            print(\"Minimum Element in the stack is: {}\" .format(self.minimum))\n",
        "\n",
        "\n",
        "    def isEmpty(self):\n",
        "        if self.top == None:\n",
        "            return True\n",
        "        else:\n",
        "            return False\n",
        "\n",
        "    def __len__(self):\n",
        "        self.count = 0\n",
        "        tempNode = self.top\n",
        "        while tempNode:\n",
        "            tempNode = tempNode.next\n",
        "            self.count += 1\n",
        "        return self.count\n",
        "\n",
        "    def peek(self):\n",
        "        if self.top is None:\n",
        "            print(\"Stack is empty\")\n",
        "        else:\n",
        "            if self.top.value < self.minimum:\n",
        "                print(\"Top Most Element is: {}\" .format(self.minimum))\n",
        "            else:\n",
        "                print(\"Top Most Element is: {}\" .format(self.top.value))\n",
        "\n",
        "    def push(self, value):\n",
        "        if self.top is None:\n",
        "            self.top = Node(value)\n",
        "            self.minimum = value\n",
        "\n",
        "        elif value < self.minimum:\n",
        "            temp = (2 * value) - self.minimum\n",
        "            new_node = Node(temp)\n",
        "            new_node.next = self.top\n",
        "            self.top = new_node\n",
        "            self.minimum = value\n",
        "        else:\n",
        "            new_node = Node(value)\n",
        "            new_node.next = self.top\n",
        "            self.top = new_node\n",
        "        print(\"Number Inserted: {}\" .format(value))\n",
        "\n",
        "    def pop(self):\n",
        "        if self.top is None:\n",
        "            print(\"Stack is empty\")\n",
        "        else:\n",
        "            removedNode = self.top.value\n",
        "            self.top = self.top.next\n",
        "            if removedNode < self.minimum:\n",
        "                print(\"Top Most Element Removed :{} \" .format(self.minimum))\n",
        "                self.minimum = ((2 * self.minimum) - removedNode)\n",
        "            else:\n",
        "                print(\"Top Most Element Removed : {}\" .format(removedNode))\n",
        "\n",
        "\n",
        "if __name__ == '__main__':\n",
        "\n",
        "  stack = Stack()\n",
        "\n",
        "  stack.push(3)\n",
        "  stack.push(5)\n",
        "  stack.getMin()\n",
        "  stack.push(2)\n",
        "  stack.push(1)\n",
        "  stack.getMin()\n",
        "  stack.pop()\n",
        "  stack.getMin()\n",
        "  stack.pop()\n",
        "  stack.peek()"
      ],
      "metadata": {
        "colab": {
          "base_uri": "https://localhost:8080/"
        },
        "id": "iKpuOJED6jYh",
        "outputId": "9832fe9d-d000-440b-b50f-a1d96a2fe784"
      },
      "execution_count": 7,
      "outputs": [
        {
          "output_type": "stream",
          "name": "stdout",
          "text": [
            "Number Inserted: 3\n",
            "Number Inserted: 5\n",
            "Minimum Element in the stack is: 3\n",
            "Number Inserted: 2\n",
            "Number Inserted: 1\n",
            "Minimum Element in the stack is: 1\n",
            "Top Most Element Removed :1 \n",
            "Minimum Element in the stack is: 2\n",
            "Top Most Element Removed :2 \n",
            "Top Most Element is: 5\n"
          ]
        }
      ]
    },
    {
      "cell_type": "markdown",
      "source": [
        "Question 8\n",
        "\n",
        "Given n non-negative integers representing an elevation map where the width of each bar is 1, compute how much water it can trap after raining."
      ],
      "metadata": {
        "id": "Q5QoBSD36jf-"
      }
    },
    {
      "cell_type": "code",
      "source": [],
      "metadata": {
        "id": "yd6dCE2L6jml"
      },
      "execution_count": null,
      "outputs": []
    }
  ]
}