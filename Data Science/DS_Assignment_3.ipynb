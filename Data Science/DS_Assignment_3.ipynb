{
  "nbformat": 4,
  "nbformat_minor": 0,
  "metadata": {
    "colab": {
      "provenance": []
    },
    "kernelspec": {
      "name": "python3",
      "display_name": "Python 3"
    },
    "language_info": {
      "name": "python"
    }
  },
  "cells": [
    {
      "cell_type": "markdown",
      "source": [
        "1. Scenario: A company wants to analyze the sales performance of its products in different\n",
        "regions. They have collected the following data:\n",
        "\n",
        "Region A: [10, 15, 12, 8, 14]\n",
        "\n",
        "Region B: [18, 20, 16, 22, 25]\n",
        "\n",
        "Calculate the mean sales for each region."
      ],
      "metadata": {
        "id": "PlsdYeENxxWL"
      }
    },
    {
      "cell_type": "code",
      "source": [
        "import statistics\n",
        "\n",
        "region_a_sales = [10, 15, 12, 8, 14]\n",
        "region_b_sales = [18, 20, 16, 22, 25]\n",
        "\n",
        "mean_region_a = statistics.mean(region_a_sales)\n",
        "mean_region_b = statistics.mean(region_b_sales)\n",
        "\n",
        "print(\"mean of region A:\" , mean_region_a )\n",
        "print(\"mean of region B:\" , mean_region_b )"
      ],
      "metadata": {
        "colab": {
          "base_uri": "https://localhost:8080/"
        },
        "id": "4kThgJm3z4xW",
        "outputId": "73f92083-9d39-440d-80b0-a3abd2e44c6f"
      },
      "execution_count": 3,
      "outputs": [
        {
          "output_type": "stream",
          "name": "stdout",
          "text": [
            "mean of region A: 11.8\n",
            "mean of region B: 20.2\n"
          ]
        }
      ]
    },
    {
      "cell_type": "markdown",
      "source": [
        "2. Scenario: A survey is conducted to measure customer satisfaction on a scale of 1 to 5. The\n",
        "data collected is as follows:\n",
        "\n",
        "[4, 5, 2, 3, 5, 4, 3, 2, 4, 5]\n",
        "\n",
        "Calculate the mode of the survey responses."
      ],
      "metadata": {
        "id": "x9_CLd_ZyKyT"
      }
    },
    {
      "cell_type": "code",
      "source": [
        "import statistics\n",
        "\n",
        "survey_responses = [4, 5, 2, 3, 5, 4, 3, 2, 4, 5]\n",
        "mode = statistics.mode(survey_responses)\n",
        "\n",
        "print(\"Mode of the survey responses:\", mode)"
      ],
      "metadata": {
        "colab": {
          "base_uri": "https://localhost:8080/"
        },
        "id": "zsYdTVYdyK73",
        "outputId": "6ef0a256-b73e-4490-f9c7-f2c3d1acf24c"
      },
      "execution_count": 4,
      "outputs": [
        {
          "output_type": "stream",
          "name": "stdout",
          "text": [
            "Mode of the survey responses: 4\n"
          ]
        }
      ]
    },
    {
      "cell_type": "markdown",
      "source": [
        "3. Scenario: A company wants to compare the salaries of two departments. The salary data for\n",
        "Department A and Department B are as follows:\n",
        "\n",
        "Department A: [5000, 6000, 5500, 7000]\n",
        "\n",
        "Department B: [4500, 5500, 5800, 6000, 5200]\n",
        "\n",
        "Calculate the median salary for each department."
      ],
      "metadata": {
        "id": "U0fRqJwAyLDW"
      }
    },
    {
      "cell_type": "code",
      "source": [
        "import statistics\n",
        "\n",
        "# Salary data for Department A and Department B\n",
        "department_a = [5000, 6000, 5500, 7000]\n",
        "department_b = [4500, 5500, 5800, 6000, 5200]\n",
        "\n",
        "# Calculate median salary for Department A\n",
        "median_a = statistics.median(department_a)\n",
        "\n",
        "# Calculate median salary for Department B\n",
        "median_b = statistics.median(department_b)\n",
        "\n",
        "# Print the results\n",
        "print(\"Department A Median Salary:\", median_a)\n",
        "print(\"Department B Median Salary:\", median_b)"
      ],
      "metadata": {
        "colab": {
          "base_uri": "https://localhost:8080/"
        },
        "id": "5smsH5b0yLLB",
        "outputId": "f4c8b50d-9f11-44d4-e834-37c5c29517a1"
      },
      "execution_count": 5,
      "outputs": [
        {
          "output_type": "stream",
          "name": "stdout",
          "text": [
            "Department A Median Salary: 5750.0\n",
            "Department B Median Salary: 5500\n"
          ]
        }
      ]
    },
    {
      "cell_type": "markdown",
      "source": [
        "4. Scenario: A data analyst wants to determine the variability in the daily stock prices of a\n",
        "company. The data collected is as follows:\n",
        "\n",
        "[25.5, 24.8, 26.1, 25.3, 24.9]\n",
        "\n",
        "Calculate the range of the stock prices"
      ],
      "metadata": {
        "id": "gL4HuazZyLUJ"
      }
    },
    {
      "cell_type": "code",
      "source": [
        "# Stock price data\n",
        "stock_prices = [25.5, 24.8, 26.1, 25.3, 24.9]\n",
        "\n",
        "# Calculate the range\n",
        "price_range = max(stock_prices) - min(stock_prices)\n",
        "\n",
        "# Print the result\n",
        "print(\"Range of Stock Prices:\", price_range)"
      ],
      "metadata": {
        "colab": {
          "base_uri": "https://localhost:8080/"
        },
        "id": "nHx45IdLyLb_",
        "outputId": "051111b7-7957-432e-a552-cdf3835f1e6f"
      },
      "execution_count": 6,
      "outputs": [
        {
          "output_type": "stream",
          "name": "stdout",
          "text": [
            "Range of Stock Prices: 1.3000000000000007\n"
          ]
        }
      ]
    },
    {
      "cell_type": "markdown",
      "source": [
        "5. Scenario: A study is conducted to compare the performance of two different teaching\n",
        "methods. The test scores of the students in each group are as follows:\n",
        "\n",
        "Group A: [85, 90, 92, 88, 91]\n",
        "\n",
        "Group B: [82, 88, 90, 86, 87]\n",
        "\n",
        "Perform a t-test to determine if there is a significant difference in the mean scores between the\n",
        "two groups."
      ],
      "metadata": {
        "id": "qSdhPWaPyLn3"
      }
    },
    {
      "cell_type": "code",
      "source": [
        "from scipy import stats\n",
        "\n",
        "# Test scores of Group A and Group B\n",
        "group_a_scores = [85, 90, 92, 88, 91]\n",
        "group_b_scores = [82, 88, 90, 86, 87]\n",
        "\n",
        "# Perform independent t-test\n",
        "t_statistic, p_value = stats.ttest_ind(group_a_scores, group_b_scores)\n",
        "\n",
        "# Print the results\n",
        "print(\"T-statistic:\", t_statistic)\n",
        "print(\"P-value:\", p_value)\n",
        "\n",
        "# Print the result\n",
        "if p_value < 0.05:\n",
        "    print(\"There is a significant difference in the mean scores between Group A and Group B.\")\n",
        "else:\n",
        "     print(\"There is no significant difference in the mean scores between Group A and Group B.\")"
      ],
      "metadata": {
        "colab": {
          "base_uri": "https://localhost:8080/"
        },
        "id": "RaWC2FDnyL7m",
        "outputId": "4a8c3d1d-6575-4095-effb-ae128974e96b"
      },
      "execution_count": 8,
      "outputs": [
        {
          "output_type": "stream",
          "name": "stdout",
          "text": [
            "T-statistic: 1.4312528946642733\n",
            "P-value: 0.19023970239078333\n",
            "There is no significant difference in the mean scores between Group A and Group B.\n"
          ]
        }
      ]
    },
    {
      "cell_type": "markdown",
      "source": [
        "6. Scenario: A company wants to analyze the relationship between advertising expenditure and\n",
        "sales. The data collected is as follows:\n",
        "\n",
        "Advertising Expenditure (in thousands): [10, 15, 12, 8, 14]\n",
        "\n",
        "Sales (in thousands): [25, 30, 28, 20, 26]\n",
        "\n",
        "Calculate the correlation coefficient between advertising expenditure and sales."
      ],
      "metadata": {
        "id": "dGkhKytOyMDO"
      }
    },
    {
      "cell_type": "code",
      "source": [
        "import numpy as np\n",
        "\n",
        "# Advertising Expenditure and Sales data\n",
        "expenditure = np.array([10, 15, 12, 8, 14])\n",
        "sales = np.array([25, 30, 28, 20, 26])\n",
        "\n",
        "# Calculate the correlation coefficient\n",
        "correlation_coefficient = np.corrcoef(expenditure, sales)[0, 1]\n",
        "\n",
        "# Print the result\n",
        "print(\"Correlation Coefficient:\", correlation_coefficient)"
      ],
      "metadata": {
        "colab": {
          "base_uri": "https://localhost:8080/"
        },
        "id": "Bjy5pS-kyMLq",
        "outputId": "0ca815c6-cdab-4f86-d4e5-03c079c50ffb"
      },
      "execution_count": 9,
      "outputs": [
        {
          "output_type": "stream",
          "name": "stdout",
          "text": [
            "Correlation Coefficient: 0.8757511375750132\n"
          ]
        }
      ]
    },
    {
      "cell_type": "markdown",
      "source": [
        "7. Scenario: A survey is conducted to measure the heights of a group of people. The data\n",
        "collected is as follows:\n",
        "\n",
        "[160, 170, 165, 155, 175, 180, 170]\n",
        "\n",
        "Calculate the standard deviation of the heights."
      ],
      "metadata": {
        "id": "qX_4xybPyMSq"
      }
    },
    {
      "cell_type": "code",
      "source": [
        "import numpy as np\n",
        "\n",
        "# Heights data\n",
        "heights = np.array([160, 170, 165, 155, 175, 180, 170])\n",
        "\n",
        "# Calculate the standard deviation\n",
        "std_deviation = np.std(heights)\n",
        "\n",
        "# Print the result\n",
        "print(\"Standard Deviation of Heights:\", std_deviation)"
      ],
      "metadata": {
        "colab": {
          "base_uri": "https://localhost:8080/"
        },
        "id": "KLX_cRjTyMag",
        "outputId": "a27d2e42-cc1f-46a1-d003-373ef6557079"
      },
      "execution_count": 10,
      "outputs": [
        {
          "output_type": "stream",
          "name": "stdout",
          "text": [
            "Standard Deviation of Heights: 7.953949089757174\n"
          ]
        }
      ]
    },
    {
      "cell_type": "markdown",
      "source": [
        "8. Scenario: A company wants to analyze the relationship between employee tenure and job\n",
        "satisfaction. The data collected is as follows:\n",
        "Employee Tenure (in years): [2, 3, 5, 4, 6, 2, 4]\n",
        "\n",
        "Job Satisfaction (on a scale of 1 to 10): [7, 8, 6, 9, 5, 7, 6]\n",
        "\n",
        "Perform a linear regression analysis to predict job satisfaction based on employee tenure."
      ],
      "metadata": {
        "id": "X4pdQwPlyMiF"
      }
    },
    {
      "cell_type": "code",
      "source": [
        "from sklearn.linear_model import LinearRegression\n",
        "import numpy as np\n",
        "\n",
        "# Employee Tenure and Job Satisfaction data\n",
        "tenure = np.array([2, 3, 5, 4, 6, 2, 4]).reshape(-1, 1)\n",
        "satisfaction = np.array([7, 8, 6, 9, 5, 7, 6])\n",
        "\n",
        "# Create and fit the linear regression model\n",
        "model = LinearRegression()\n",
        "model.fit(tenure, satisfaction)\n",
        "\n",
        "# Predict job satisfaction for a new tenure value\n",
        "new_tenure = np.array([3.5]).reshape(-1, 1)\n",
        "predicted_satisfaction = model.predict(new_tenure)\n",
        "\n",
        "# Print the predicted job satisfaction\n",
        "print(\"Predicted Job Satisfaction:\", predicted_satisfaction[0])"
      ],
      "metadata": {
        "colab": {
          "base_uri": "https://localhost:8080/"
        },
        "id": "UMu_040SyMpZ",
        "outputId": "d00e87d1-0386-4fde-c95a-cfd9ad16f465"
      },
      "execution_count": 11,
      "outputs": [
        {
          "output_type": "stream",
          "name": "stdout",
          "text": [
            "Predicted Job Satisfaction: 6.957446808510637\n"
          ]
        }
      ]
    },
    {
      "cell_type": "markdown",
      "source": [
        "9. Scenario: A study is conducted to compare the effectiveness of two different medications.\n",
        "The recovery times of the patients in each group are as follows:\n",
        "\n",
        "Medication A: [10, 12, 14, 11, 13]\n",
        "\n",
        "Medication B: [15, 17, 16, 14, 18]\n",
        "\n",
        "Perform an analysis of variance (ANOVA) to determine if there is a significant difference in the\n",
        "mean recovery times between the two medications."
      ],
      "metadata": {
        "id": "985wKaCqyMwu"
      }
    },
    {
      "cell_type": "code",
      "source": [
        "from scipy import stats\n",
        "\n",
        "# Recovery times for Medication A and Medication B\n",
        "medication_a = [10, 12, 14, 11, 13]\n",
        "medication_b = [15, 17, 16, 14, 18]\n",
        "\n",
        "# Perform one-way ANOVA\n",
        "f_statistic, p_value = stats.f_oneway(medication_a, medication_b)\n",
        "\n",
        "# Print the result\n",
        "if p_value < 0.05:\n",
        "    print(\"There is a significant difference in the mean recovery times between the two medications.\")\n",
        "else:\n",
        "    print(\"There is no significant difference in the mean recovery times between the two medications.\")"
      ],
      "metadata": {
        "colab": {
          "base_uri": "https://localhost:8080/"
        },
        "id": "76GKbZNYyM3s",
        "outputId": "82c65c69-ca60-4a46-d724-ea1be3b94c1d"
      },
      "execution_count": 12,
      "outputs": [
        {
          "output_type": "stream",
          "name": "stdout",
          "text": [
            "There is a significant difference in the mean recovery times between the two medications.\n"
          ]
        }
      ]
    },
    {
      "cell_type": "markdown",
      "source": [
        "10. Scenario: A company wants to analyze customer feedback ratings on a scale of 1 to 10. The\n",
        "data collected is\n",
        "as follows:\n",
        "[8, 9, 7, 6, 8, 10, 9, 8, 7, 8]\n",
        "Calculate the 75th percentile of the feedback ratings."
      ],
      "metadata": {
        "id": "WaFj4PwbyNAy"
      }
    },
    {
      "cell_type": "code",
      "source": [
        "import numpy as np\n",
        "\n",
        "# Customer feedback ratings\n",
        "ratings = np.array([8, 9, 7, 6, 8, 10, 9, 8, 7, 8])\n",
        "\n",
        "# Calculate the 75th percentile\n",
        "percentile_75 = np.percentile(ratings, 75)\n",
        "\n",
        "# Print the result\n",
        "print(\"75th Percentile of Feedback Ratings:\", percentile_75)"
      ],
      "metadata": {
        "colab": {
          "base_uri": "https://localhost:8080/"
        },
        "id": "VvUbwxwxyNIF",
        "outputId": "33879d29-51c8-4801-dd9b-e5f7a8a78659"
      },
      "execution_count": 13,
      "outputs": [
        {
          "output_type": "stream",
          "name": "stdout",
          "text": [
            "75th Percentile of Feedback Ratings: 8.75\n"
          ]
        }
      ]
    },
    {
      "cell_type": "markdown",
      "source": [
        "11. Scenario: A quality control department wants to test the weight consistency of a product.\n",
        "The weights of a sample of products are as follows:\n",
        "[10.2, 9.8, 10.0, 10.5, 10.3, 10.1]\n",
        "Perform a hypothesis test to determine if the mean weight differs significantly from 10 grams.\n"
      ],
      "metadata": {
        "id": "8YfkfKVHyNP-"
      }
    },
    {
      "cell_type": "code",
      "source": [
        "from scipy import stats\n",
        "\n",
        "# Weights of the sample products\n",
        "weights = [10.2, 9.8, 10.0, 10.5, 10.3, 10.1]\n",
        "\n",
        "# Perform one-sample t-test\n",
        "t_statistic, p_value = stats.ttest_1samp(weights, 10)\n",
        "\n",
        "# Print the result\n",
        "if p_value < 0.05:\n",
        "    print(\"The mean weight differs significantly from 10 grams.\")\n",
        "else:\n",
        "    print(\"The mean weight does not differ significantly from 10 grams.\")"
      ],
      "metadata": {
        "colab": {
          "base_uri": "https://localhost:8080/"
        },
        "id": "lvSfonT5yNXP",
        "outputId": "1d7afd40-77fd-4ecb-9e60-ab58aaab413e"
      },
      "execution_count": 14,
      "outputs": [
        {
          "output_type": "stream",
          "name": "stdout",
          "text": [
            "The mean weight does not differ significantly from 10 grams.\n"
          ]
        }
      ]
    },
    {
      "cell_type": "markdown",
      "source": [
        "12. Scenario: A company wants to analyze the click-through rates of two different website\n",
        "designs. The number of clicks for each design is as follows:\n",
        "\n",
        "Design A: [100, 120, 110, 90, 95]\n",
        "\n",
        "Design B: [80, 85, 90, 95, 100]\n",
        "\n",
        "Perform a chi-square test to determine if there is a significant difference in the click-through\n",
        "rates between the two designs.\n"
      ],
      "metadata": {
        "id": "P5cZW_SWyNf2"
      }
    },
    {
      "cell_type": "code",
      "source": [
        "from scipy import stats\n",
        "import numpy as np\n",
        "\n",
        "# Click-through rates for Design A and Design B\n",
        "design_a = np.array([100, 120, 110, 90, 95])\n",
        "design_b = np.array([80, 85, 90, 95, 100])\n",
        "\n",
        "# Concatenate the observed frequencies\n",
        "observed_frequencies = np.concatenate((design_a, design_b))\n",
        "\n",
        "# Create expected frequencies assuming no difference\n",
        "expected_frequency = np.mean(observed_frequencies)\n",
        "\n",
        "# Perform chi-square test\n",
        "chi2_statistic, p_value = stats.chisquare(observed_frequencies, f_exp=expected_frequency)\n",
        "\n",
        "# Print the result\n",
        "if p_value < 0.05:\n",
        "    print(\"There is a significant difference in the click-through rates between Design A and Design B.\")\n",
        "else:\n",
        "    print(\"There is no significant difference in the click-through rates between Design A and Design B.\")"
      ],
      "metadata": {
        "colab": {
          "base_uri": "https://localhost:8080/"
        },
        "id": "Mbs0QcV6yNnG",
        "outputId": "86b10b66-ec36-4069-adfc-68103a9dc111"
      },
      "execution_count": 15,
      "outputs": [
        {
          "output_type": "stream",
          "name": "stdout",
          "text": [
            "There is no significant difference in the click-through rates between Design A and Design B.\n"
          ]
        }
      ]
    },
    {
      "cell_type": "markdown",
      "source": [
        "13. Scenario: A survey is conducted to measure customer satisfaction with a product on a scale\n",
        "of 1 to 10. The data collected is as follows:\n",
        "[7, 9, 6, 8, 10, 7, 8, 9, 7, 8]\n",
        "Calculate the 95% confidence interval for the population mean satisfaction score."
      ],
      "metadata": {
        "id": "dz4Q_HEcyNuP"
      }
    },
    {
      "cell_type": "code",
      "source": [
        "import numpy as np\n",
        "from scipy import stats\n",
        "\n",
        "# Customer satisfaction scores\n",
        "scores = np.array([7, 9, 6, 8, 10, 7, 8, 9, 7, 8])\n",
        "\n",
        "# Calculate the sample mean and standard error\n",
        "sample_mean = np.mean(scores)\n",
        "standard_error = stats.sem(scores)\n",
        "\n",
        "# Calculate the confidence interval\n",
        "confidence_interval = stats.t.interval(0.95, len(scores) - 1, loc=sample_mean, scale=standard_error)\n",
        "\n",
        "# Print the result\n",
        "print(\"95% Confidence Interval:\", confidence_interval)"
      ],
      "metadata": {
        "colab": {
          "base_uri": "https://localhost:8080/"
        },
        "id": "i95eKL3dyN2s",
        "outputId": "ef77a274-58d5-4c57-c98e-312136f0d3f3"
      },
      "execution_count": 16,
      "outputs": [
        {
          "output_type": "stream",
          "name": "stdout",
          "text": [
            "95% Confidence Interval: (7.043561120599888, 8.756438879400113)\n"
          ]
        }
      ]
    },
    {
      "cell_type": "markdown",
      "source": [
        "14. Scenario: A company wants to analyze the effect of temperature on product performance.\n",
        "The data collected is as follows:\n",
        "\n",
        "Temperature (in degrees Celsius): [20, 22, 23, 19, 21]\n",
        "\n",
        "Performance (on a scale of 1 to 10): [8, 7, 9, 6, 8]\n",
        "\n",
        "Perform a simple linear regression to predict performance based on temperature."
      ],
      "metadata": {
        "id": "zWA2OK0HyN-O"
      }
    },
    {
      "cell_type": "code",
      "source": [
        "import numpy as np\n",
        "from sklearn.linear_model import LinearRegression\n",
        "\n",
        "# Temperature and Performance data\n",
        "temperature = np.array([20, 22, 23, 19, 21]).reshape(-1, 1)\n",
        "performance = np.array([8, 7, 9, 6, 8])\n",
        "\n",
        "# Create and fit the linear regression model\n",
        "model = LinearRegression()\n",
        "model.fit(temperature, performance)\n",
        "\n",
        "# Predict performance for a new temperature value\n",
        "new_temperature = np.array([24]).reshape(-1, 1)\n",
        "predicted_performance = model.predict(new_temperature)\n",
        "\n",
        "# Print the predicted performance\n",
        "print(\"Predicted Performance:\", predicted_performance[0])"
      ],
      "metadata": {
        "colab": {
          "base_uri": "https://localhost:8080/"
        },
        "id": "lxGRk45ryOGT",
        "outputId": "0c650879-10f0-422f-cd4b-56115dba7f08"
      },
      "execution_count": 17,
      "outputs": [
        {
          "output_type": "stream",
          "name": "stdout",
          "text": [
            "Predicted Performance: 9.099999999999998\n"
          ]
        }
      ]
    },
    {
      "cell_type": "markdown",
      "source": [
        "15. Scenario: A study is conducted to compare the preferences of two groups of participants.\n",
        "The preferences are measured on a Likert scale from 1 to 5. The data collected is as follows:\n",
        "\n",
        "Group A: [4, 3, 5, 2, 4]\n",
        "\n",
        "Group B: [3, 2, 4, 3, 3]\n",
        "\n",
        "Perform a Mann-Whitney U test to determine if there is a significant difference in the median\n",
        "preferences between the two groups."
      ],
      "metadata": {
        "id": "up8Cv3BsyOPA"
      }
    },
    {
      "cell_type": "code",
      "source": [
        "from scipy import stats\n",
        "\n",
        "# Preferences for Group A and Group B\n",
        "group_a = [4, 3, 5, 2, 4]\n",
        "group_b = [3, 2, 4, 3, 3]\n",
        "\n",
        "# Perform Mann-Whitney U test\n",
        "statistic, p_value = stats.mannwhitneyu(group_a, group_b)\n",
        "\n",
        "# Print the result\n",
        "if p_value < 0.05:\n",
        "    print(\"There is a significant difference in the median preferences between Group A and Group B.\")\n",
        "else:\n",
        "    print(\"There is no significant difference in the median preferences between Group A and Group B.\")"
      ],
      "metadata": {
        "colab": {
          "base_uri": "https://localhost:8080/"
        },
        "id": "4doHNnz4yOVY",
        "outputId": "bbce0a96-a472-4d71-eab9-52a3674a8d2b"
      },
      "execution_count": 18,
      "outputs": [
        {
          "output_type": "stream",
          "name": "stdout",
          "text": [
            "There is no significant difference in the median preferences between Group A and Group B.\n"
          ]
        }
      ]
    },
    {
      "cell_type": "markdown",
      "source": [
        "16. Scenario: A company wants to analyze the distribution of customer ages. The data collected\n",
        "is as follows:\n",
        "[25, 30, 35, 40, 45, 50, 55, 60, 65, 70]\n",
        "Calculate the interquartile range (IQR) of the ages.\n"
      ],
      "metadata": {
        "id": "0ljnWSu3yOdP"
      }
    },
    {
      "cell_type": "code",
      "source": [
        "import numpy as np\n",
        "\n",
        "# Customer ages\n",
        "ages = np.array([25, 30, 35, 40, 45, 50, 55, 60, 65, 70])\n",
        "\n",
        "# Calculate the first quartile (Q1)\n",
        "q1 = np.percentile(ages, 25)\n",
        "\n",
        "# Calculate the third quartile (Q3)\n",
        "q3 = np.percentile(ages, 75)\n",
        "\n",
        "# Calculate the interquartile range (IQR)\n",
        "iqr = q3 - q1\n",
        "\n",
        "# Print the result\n",
        "print(\"Interquartile Range (IQR) of Ages:\", iqr)"
      ],
      "metadata": {
        "colab": {
          "base_uri": "https://localhost:8080/"
        },
        "id": "j7FJOZ_CyOkM",
        "outputId": "2c4a711a-ec61-49ec-ae5f-adaf7b55d945"
      },
      "execution_count": 19,
      "outputs": [
        {
          "output_type": "stream",
          "name": "stdout",
          "text": [
            "Interquartile Range (IQR) of Ages: 22.5\n"
          ]
        }
      ]
    },
    {
      "cell_type": "markdown",
      "source": [
        "17. Scenario: A study is conducted to compare the performance of three different machine\n",
        "learning algorithms. The accuracy scores for each algorithm are as follows:\n",
        "\n",
        "Algorithm A: [0.85, 0.80, 0.82, 0.87, 0.83]\n",
        "\n",
        "Algorithm B: [0.78, 0.82, 0.84, 0.80, 0.79]\n",
        "\n",
        "Algorithm C: [0.90, 0.88, 0.89, 0.86, 0.87]\n",
        "\n",
        "Perform a Kruskal-Wallis test to determine if there is a significant difference in the median\n",
        "accuracy scores between the algorithms.\n"
      ],
      "metadata": {
        "id": "SJaObHu5yOsW"
      }
    },
    {
      "cell_type": "code",
      "source": [
        "from scipy import stats\n",
        "\n",
        "# Accuracy scores for Algorithm A, Algorithm B, and Algorithm C\n",
        "algorithm_a = [0.85, 0.80, 0.82, 0.87, 0.83]\n",
        "algorithm_b = [0.78, 0.82, 0.84, 0.80, 0.79]\n",
        "algorithm_c = [0.90, 0.88, 0.89, 0.86, 0.87]\n",
        "\n",
        "# Perform Kruskal-Wallis test\n",
        "statistic, p_value = stats.kruskal(algorithm_a, algorithm_b, algorithm_c)\n",
        "\n",
        "# Print the result\n",
        "if p_value < 0.05:\n",
        "    print(\"There is a significant difference in the median accuracy scores between the algorithms.\")\n",
        "else:\n",
        "    print(\"There is no significant difference in the median accuracy scores between the algorithms.\")"
      ],
      "metadata": {
        "colab": {
          "base_uri": "https://localhost:8080/"
        },
        "id": "a0STiLquyO0C",
        "outputId": "6d01fa9b-64aa-4443-bac7-17efebad78e5"
      },
      "execution_count": 21,
      "outputs": [
        {
          "output_type": "stream",
          "name": "stdout",
          "text": [
            "There is a significant difference in the median accuracy scores between the algorithms.\n"
          ]
        }
      ]
    },
    {
      "cell_type": "markdown",
      "source": [
        "18. Scenario: A company wants to analyze the effect of price on sales. The data collected is as\n",
        "follows:\n",
        "\n",
        "Price (in dollars): [10, 15, 12, 8, 14]\n",
        "\n",
        "Sales: [100, 80, 90, 110, 95]\n",
        "\n",
        "Perform a simple linear regression to predict\n",
        "sales based on price.\n"
      ],
      "metadata": {
        "id": "4DqrkWWDyO7X"
      }
    },
    {
      "cell_type": "code",
      "source": [
        "import numpy as np\n",
        "from sklearn.linear_model import LinearRegression\n",
        "\n",
        "# Price and Sales data\n",
        "price = np.array([10, 15, 12, 8, 14]).reshape(-1, 1)\n",
        "sales = np.array([100, 80, 90, 110, 95])\n",
        "\n",
        "# Create and fit the linear regression model\n",
        "model = LinearRegression()\n",
        "model.fit(price, sales)\n",
        "\n",
        "# Predict sales for a new price value\n",
        "new_price = np.array([11]).reshape(-1, 1)\n",
        "predicted_sales = model.predict(new_price)\n",
        "\n",
        "# Print the predicted sales\n",
        "print(\"Predicted Sales:\", predicted_sales[0])"
      ],
      "metadata": {
        "colab": {
          "base_uri": "https://localhost:8080/"
        },
        "id": "dwFHCv9KyPCc",
        "outputId": "ad9ae1a6-97af-4fda-8ea6-066bd79057bf"
      },
      "execution_count": 22,
      "outputs": [
        {
          "output_type": "stream",
          "name": "stdout",
          "text": [
            "Predicted Sales: 97.8048780487805\n"
          ]
        }
      ]
    },
    {
      "cell_type": "markdown",
      "source": [
        "19. Scenario: A survey is conducted to measure the satisfaction levels of customers with a new\n",
        "product. The data collected is as follows:\n",
        "[7, 8, 9, 6, 8, 7, 9, 7, 8, 7]\n",
        "Calculate the standard error of the mean satisfaction score.\n"
      ],
      "metadata": {
        "id": "pcQhZNJlyPLw"
      }
    },
    {
      "cell_type": "code",
      "source": [
        "import numpy as np\n",
        "from scipy import stats\n",
        "\n",
        "# Satisfaction scores\n",
        "scores = np.array([7, 8, 9, 6, 8, 7, 9, 7, 8, 7])\n",
        "\n",
        "# Calculate the standard error of the mean\n",
        "standard_error = stats.sem(scores)\n",
        "\n",
        "# Print the result\n",
        "print(\"Standard Error of the Mean:\", standard_error)"
      ],
      "metadata": {
        "colab": {
          "base_uri": "https://localhost:8080/"
        },
        "id": "TQmMFGtNyPaZ",
        "outputId": "af237ded-9742-4907-cb0d-bce163994163"
      },
      "execution_count": 23,
      "outputs": [
        {
          "output_type": "stream",
          "name": "stdout",
          "text": [
            "Standard Error of the Mean: 0.30550504633038933\n"
          ]
        }
      ]
    },
    {
      "cell_type": "markdown",
      "source": [
        "20. Scenario: A company wants to analyze the relationship between advertising expenditure\n",
        "and sales. The data collected is as follows:\n",
        "\n",
        "Advertising Expenditure (in thousands): [10, 15, 12, 8, 14]\n",
        "\n",
        "Sales (in thousands): [25, 30, 28, 20, 26]\n",
        "\n",
        "Perform a multiple regression analysis to predict sales based on advertising expenditure."
      ],
      "metadata": {
        "id": "-mdhJrQPyPiX"
      }
    },
    {
      "cell_type": "code",
      "source": [
        "import numpy as np\n",
        "from sklearn.linear_model import LinearRegression\n",
        "\n",
        "# Advertising Expenditure and Sales data\n",
        "expenditure = np.array([10, 15, 12, 8, 14]).reshape(-1, 1)\n",
        "sales = np.array([25, 30, 28, 20, 26])\n",
        "\n",
        "# Create and fit the multiple regression model\n",
        "model = LinearRegression()\n",
        "model.fit(expenditure, sales)\n",
        "\n",
        "# Predict sales for a new advertising expenditure value\n",
        "new_expenditure = np.array([13]).reshape(-1, 1)\n",
        "predicted_sales = model.predict(new_expenditure)\n",
        "\n",
        "# Print the predicted sales\n",
        "print(\"Predicted Sales:\", predicted_sales[0])"
      ],
      "metadata": {
        "colab": {
          "base_uri": "https://localhost:8080/"
        },
        "id": "viFHUHxwyPr1",
        "outputId": "f68be3c6-859c-481b-ceeb-7be510e3817c"
      },
      "execution_count": 24,
      "outputs": [
        {
          "output_type": "stream",
          "name": "stdout",
          "text": [
            "Predicted Sales: 27.182926829268293\n"
          ]
        }
      ]
    }
  ]
}