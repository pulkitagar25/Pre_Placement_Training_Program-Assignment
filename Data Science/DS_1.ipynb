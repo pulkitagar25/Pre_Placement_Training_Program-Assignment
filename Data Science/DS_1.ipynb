{
  "nbformat": 4,
  "nbformat_minor": 0,
  "metadata": {
    "colab": {
      "provenance": []
    },
    "kernelspec": {
      "name": "python3",
      "display_name": "Python 3"
    },
    "language_info": {
      "name": "python"
    }
  },
  "cells": [
    {
      "cell_type": "markdown",
      "source": [
        "1. Write a Python program to reverse a string without using any built-in string reversal functions."
      ],
      "metadata": {
        "id": "rFInjRGkNWQR"
      }
    },
    {
      "cell_type": "code",
      "execution_count": null,
      "metadata": {
        "colab": {
          "base_uri": "https://localhost:8080/"
        },
        "id": "_34TGjCTNSqu",
        "outputId": "9ba33a1c-0d63-41ec-a3f0-f5d35b959901"
      },
      "outputs": [
        {
          "output_type": "stream",
          "name": "stdout",
          "text": [
            "norueni olleh\n"
          ]
        }
      ],
      "source": [
        "x=\"hello ineuron\"\n",
        "\n",
        "print(x[::-1])"
      ]
    },
    {
      "cell_type": "markdown",
      "source": [
        "2. Implement a function to check if a given string is a palindrome."
      ],
      "metadata": {
        "id": "pSInP4poNqSn"
      }
    },
    {
      "cell_type": "code",
      "source": [
        "def palin(x):\n",
        "    temp = x.lower()\n",
        "    y = temp[::-1]\n",
        "\n",
        "    if y == temp:\n",
        "        print(\"It's a palindrome\")\n",
        "    else:\n",
        "        print(\"Not a palindrome\")\n",
        "\n",
        "a = \"moM\"\n",
        "palin(a)\n"
      ],
      "metadata": {
        "colab": {
          "base_uri": "https://localhost:8080/"
        },
        "id": "BCLIVzFeNrOQ",
        "outputId": "f625ac7c-5f00-44e9-ccb2-97e2dcb511f4"
      },
      "execution_count": null,
      "outputs": [
        {
          "output_type": "stream",
          "name": "stdout",
          "text": [
            "It's a palindrome\n"
          ]
        }
      ]
    },
    {
      "cell_type": "markdown",
      "source": [
        "3. Write a program to find the largest element in a given list."
      ],
      "metadata": {
        "id": "RZopRKTgP0U-"
      }
    },
    {
      "cell_type": "code",
      "source": [
        "def largest(lst):\n",
        "  if not lst:\n",
        "    print(\"List is empty\")\n",
        "    return None\n",
        "  largest=lst[0]\n",
        "\n",
        "  for num in lst:\n",
        "    if num > largest:\n",
        "      largest=num\n",
        "  return largest\n",
        "\n",
        "x=[10,30,300,4000,-5000]\n",
        "print(\"The largest element in a given list\",largest(x))"
      ],
      "metadata": {
        "colab": {
          "base_uri": "https://localhost:8080/"
        },
        "id": "MiE7TZ84P151",
        "outputId": "025c5126-5bb4-411c-fa00-9139188b0d7b"
      },
      "execution_count": null,
      "outputs": [
        {
          "output_type": "stream",
          "name": "stdout",
          "text": [
            "The largest element in a given list 4000\n"
          ]
        }
      ]
    },
    {
      "cell_type": "markdown",
      "source": [
        "4. Implement a function to count the occurrence of each element in a list."
      ],
      "metadata": {
        "id": "0gGqqb4ZP2d6"
      }
    },
    {
      "cell_type": "code",
      "source": [
        "def count_occurrences(lst):\n",
        "    occurrence_count = {}\n",
        "\n",
        "    for element in lst:\n",
        "        if element in occurrence_count:\n",
        "            occurrence_count[element] += 1\n",
        "        else:\n",
        "            occurrence_count[element] = 1\n",
        "\n",
        "    return occurrence_count\n",
        "\n",
        "numbers = [1, 2, 3, 4, 2, 1, 3, 2, 1, 4]\n",
        "occurrence_dict = count_occurrences(numbers)\n",
        "\n",
        "for element, count in occurrence_dict.items():\n",
        "    print(f\"{element} occurs {count} times.\")\n"
      ],
      "metadata": {
        "colab": {
          "base_uri": "https://localhost:8080/"
        },
        "id": "C6M7uO9NULNu",
        "outputId": "7a898553-7d70-4653-a7ab-6d61a5546b81"
      },
      "execution_count": null,
      "outputs": [
        {
          "output_type": "stream",
          "name": "stdout",
          "text": [
            "1 occurs 3 times.\n",
            "2 occurs 3 times.\n",
            "3 occurs 2 times.\n",
            "4 occurs 2 times.\n"
          ]
        }
      ]
    },
    {
      "cell_type": "markdown",
      "source": [
        "5. Write a Python program to find the second largest number in a list."
      ],
      "metadata": {
        "id": "l9_jPcVJP3DB"
      }
    },
    {
      "cell_type": "code",
      "source": [
        "def find_second_largest(lst):\n",
        "    if len(lst) < 2:\n",
        "        print(\"List should have at least two elements.\")\n",
        "        return None\n",
        "\n",
        "    largest = float('-inf')\n",
        "    second_largest = float('-inf')\n",
        "\n",
        "    for num in lst:\n",
        "        if num > largest:\n",
        "            second_largest = largest\n",
        "            largest = num\n",
        "        elif num > second_largest and num != largest:\n",
        "            second_largest = num\n",
        "\n",
        "    if second_largest == float('-inf'):\n",
        "        print(\"There is no second largest element.\")\n",
        "        return None\n",
        "\n",
        "    return second_largest\n",
        "\n",
        "numbers = [10, 5, 20, 8, 15]\n",
        "second_largest_number = find_second_largest(numbers)\n",
        "\n",
        "if second_largest_number is not None:\n",
        "    print(\"The second largest number is:\", second_largest_number)\n"
      ],
      "metadata": {
        "colab": {
          "base_uri": "https://localhost:8080/"
        },
        "id": "HIcEo9fVP3So",
        "outputId": "a9b4da15-0474-4a83-eef0-8d4c126a0690"
      },
      "execution_count": null,
      "outputs": [
        {
          "output_type": "stream",
          "name": "stdout",
          "text": [
            "The second largest number is: 15\n"
          ]
        }
      ]
    },
    {
      "cell_type": "markdown",
      "source": [
        "6. Implement a function to remove duplicate elements from a list.\n"
      ],
      "metadata": {
        "id": "J8C31J19P3jV"
      }
    },
    {
      "cell_type": "code",
      "source": [
        "def check_duplicate(lst):\n",
        "  unique=[]\n",
        "  for i in lst:\n",
        "    if i not in unique:\n",
        "      unique.append(i)\n",
        "  return unique\n",
        "\n",
        "x=[1,1,2,2,3,4]\n",
        "\n",
        "print(check_duplicate(x))\n"
      ],
      "metadata": {
        "colab": {
          "base_uri": "https://localhost:8080/"
        },
        "id": "-5ZWFhZnP3zI",
        "outputId": "e8b438b2-152e-4bd2-ed3c-57ecc2ce3ad9"
      },
      "execution_count": null,
      "outputs": [
        {
          "output_type": "stream",
          "name": "stdout",
          "text": [
            "[1, 2, 3, 4]\n"
          ]
        }
      ]
    },
    {
      "cell_type": "markdown",
      "source": [
        "7. Write a program to calculate the factorial of a given number."
      ],
      "metadata": {
        "id": "wlEJPeUCP4FT"
      }
    },
    {
      "cell_type": "code",
      "source": [
        "x=int(input(\"Enter the number\"))\n",
        "mul=1\n",
        "\n",
        "for i in range(1,x+1):\n",
        "  mul=mul*i\n",
        "print(mul)"
      ],
      "metadata": {
        "colab": {
          "base_uri": "https://localhost:8080/"
        },
        "id": "EgXtgZMdP4TN",
        "outputId": "bf02c9da-35ff-4cc4-c141-ba6013d5a4c7"
      },
      "execution_count": null,
      "outputs": [
        {
          "output_type": "stream",
          "name": "stdout",
          "text": [
            "Enter the number5\n",
            "120\n"
          ]
        }
      ]
    },
    {
      "cell_type": "markdown",
      "source": [
        "8. Implement a function to check if a given number is prime."
      ],
      "metadata": {
        "id": "it3dV0obP4iT"
      }
    },
    {
      "cell_type": "code",
      "source": [
        "def prime(num):\n",
        "  for i in range(2,int(num/2)+1):\n",
        "    if(num%i==0):\n",
        "      return False\n",
        "  return True\n",
        "\n",
        "x=16\n",
        "if prime(x):\n",
        "    print(\"Prime\")\n",
        "else:\n",
        "    print(\"Not prime\")"
      ],
      "metadata": {
        "colab": {
          "base_uri": "https://localhost:8080/"
        },
        "id": "kvwncqA_P472",
        "outputId": "c77c2d03-bd26-46f0-a94c-7a8dad1c97b6"
      },
      "execution_count": null,
      "outputs": [
        {
          "output_type": "stream",
          "name": "stdout",
          "text": [
            "Not prime\n"
          ]
        }
      ]
    },
    {
      "cell_type": "markdown",
      "source": [
        "9. Write a Python program to sort a list of integers in ascending order."
      ],
      "metadata": {
        "id": "7OgrXqfSP5UU"
      }
    },
    {
      "cell_type": "code",
      "source": [
        "x=[10,2,-3,-91,99,291]\n",
        "sorted(x)"
      ],
      "metadata": {
        "colab": {
          "base_uri": "https://localhost:8080/"
        },
        "id": "Zar1MlJXP5jq",
        "outputId": "f1120cb1-cb04-4214-9dc0-23b45089b5e0"
      },
      "execution_count": null,
      "outputs": [
        {
          "output_type": "execute_result",
          "data": {
            "text/plain": [
              "[-91, -3, 2, 10, 99, 291]"
            ]
          },
          "metadata": {},
          "execution_count": 54
        }
      ]
    },
    {
      "cell_type": "markdown",
      "source": [
        "10. Implement a function to find the sum of all numbers in a list."
      ],
      "metadata": {
        "id": "hd39-cqxP51Y"
      }
    },
    {
      "cell_type": "code",
      "source": [
        "x=[10,10,20,-5,20]\n",
        "sum=0\n",
        "for i in x:\n",
        "  sum=sum+i\n",
        "print(sum)"
      ],
      "metadata": {
        "colab": {
          "base_uri": "https://localhost:8080/"
        },
        "id": "FP_pjnyjP6HM",
        "outputId": "d3b5528b-8572-4cb0-cb88-d0fba4a090bf"
      },
      "execution_count": null,
      "outputs": [
        {
          "output_type": "stream",
          "name": "stdout",
          "text": [
            "55\n"
          ]
        }
      ]
    },
    {
      "cell_type": "markdown",
      "source": [
        "11. Write a program to find the common elements between two lists."
      ],
      "metadata": {
        "id": "cnfMT0cNihz1"
      }
    },
    {
      "cell_type": "code",
      "source": [
        "lst1=[1,2,3,4,50]\n",
        "lst2=[10,20,30,40,50]\n",
        "\n",
        "print(list(set(lst1).intersection(lst2)))"
      ],
      "metadata": {
        "colab": {
          "base_uri": "https://localhost:8080/"
        },
        "id": "Wn8iJWhliibq",
        "outputId": "9a57d7c1-1d68-4ed0-e3b0-2b7051869b97"
      },
      "execution_count": null,
      "outputs": [
        {
          "output_type": "stream",
          "name": "stdout",
          "text": [
            "[50]\n"
          ]
        }
      ]
    },
    {
      "cell_type": "markdown",
      "source": [
        "12. Implement a function to check if a given string is an anagram of another string.\n"
      ],
      "metadata": {
        "id": "QxqGNsahnogi"
      }
    },
    {
      "cell_type": "code",
      "source": [
        "str1=input(\"Enter the string:\")\n",
        "str2=input(\"Enter the string:\")\n",
        "\n",
        "str1=str1.lower()\n",
        "str2=str2.lower()\n",
        "\n",
        "if (len(str1)) == (len(str2)):\n",
        "\n",
        "  sorted_str1= sorted(str1)\n",
        "  sorted_str2= sorted(str2)\n",
        "\n",
        "  if(sorted_str1==sorted_str2):\n",
        "    print(str1 + \" and \" + str2 + \" are anagram.\")\n",
        "  else:\n",
        "    print(str1 + \" and \" + str2 + \" are not anagram.\")\n",
        "\n",
        "\n",
        "else:\n",
        "  print(str1 + \" and \" + str2 + \" are not anagram.\")"
      ],
      "metadata": {
        "colab": {
          "base_uri": "https://localhost:8080/"
        },
        "id": "BepnkJD8no4l",
        "outputId": "f3c44978-4a82-4386-85c4-0b991b61709a"
      },
      "execution_count": null,
      "outputs": [
        {
          "output_type": "stream",
          "name": "stdout",
          "text": [
            "Enter the string:race\n",
            "Enter the string:hello\n",
            "race and hello are not anagram.\n"
          ]
        }
      ]
    },
    {
      "cell_type": "markdown",
      "source": [
        "13. Write a Python program to generate all permutations of a given string"
      ],
      "metadata": {
        "id": "WxGrdlQ6nqVq"
      }
    },
    {
      "cell_type": "code",
      "source": [
        "def permutation(string,i=0):\n",
        "  if(i==len(string)):\n",
        "    print(\"\".join(string))\n",
        "    return\n",
        "\n",
        "  for j in range(i,len(string)):\n",
        "    words=[c for c in string]\n",
        "    words[i],words[j]= words[j],words[i]\n",
        "    permutation(words,i+1)\n",
        "\n",
        "permutation(\"yep\")"
      ],
      "metadata": {
        "colab": {
          "base_uri": "https://localhost:8080/"
        },
        "id": "P0ZUcXvinqsU",
        "outputId": "362c4d3f-3181-4cab-c74d-a89ac6f28ebe"
      },
      "execution_count": null,
      "outputs": [
        {
          "output_type": "stream",
          "name": "stdout",
          "text": [
            "yep\n",
            "ype\n",
            "eyp\n",
            "epy\n",
            "pey\n",
            "pye\n"
          ]
        }
      ]
    },
    {
      "cell_type": "markdown",
      "source": [
        "14. Implement a function to calculate the Fibonacci sequence up to a given number of terms."
      ],
      "metadata": {
        "id": "A3dJs0dPnrER"
      }
    },
    {
      "cell_type": "code",
      "source": [
        "def fibonacci(num):\n",
        "  seq=[]\n",
        "  a,b=0,1\n",
        "  while len(seq)< num:\n",
        "    seq.append(a)\n",
        "    a,b=b,a+b\n",
        "  return seq\n",
        "\n",
        "fibonacci(10)"
      ],
      "metadata": {
        "colab": {
          "base_uri": "https://localhost:8080/"
        },
        "id": "SWiy4SyynrVc",
        "outputId": "a5fc55d3-189c-4fe7-cba8-2d0a7d83955f"
      },
      "execution_count": null,
      "outputs": [
        {
          "output_type": "execute_result",
          "data": {
            "text/plain": [
              "[0, 1, 1, 2, 3, 5, 8, 13, 21, 34]"
            ]
          },
          "metadata": {},
          "execution_count": 3
        }
      ]
    },
    {
      "cell_type": "markdown",
      "source": [
        "15. Write a program to find the median of a list of numbers"
      ],
      "metadata": {
        "id": "FOUEqeBenrls"
      }
    },
    {
      "cell_type": "code",
      "source": [
        "def calculate_median(data):\n",
        "    sorted_data = sorted(data)\n",
        "    n = len(sorted_data)\n",
        "    if n % 2 == 0:\n",
        "        middle_indices = [n // 2 - 1, n // 2]\n",
        "        median = sum(sorted_data[i] for i in middle_indices) / 2\n",
        "    else:\n",
        "        median = sorted_data[n // 2]\n",
        "    return median\n",
        "\n",
        "\n",
        "data = [4, 2, 7, 1, 5]\n",
        "median = calculate_median(data)\n",
        "print(median)"
      ],
      "metadata": {
        "colab": {
          "base_uri": "https://localhost:8080/"
        },
        "id": "FxvFQs_Bnr1q",
        "outputId": "60facbfe-4ac2-4de1-9a25-3019e33213c1"
      },
      "execution_count": null,
      "outputs": [
        {
          "output_type": "stream",
          "name": "stdout",
          "text": [
            "4\n"
          ]
        }
      ]
    },
    {
      "cell_type": "markdown",
      "source": [
        "16. Implement a function to check if a given list is sorted in non-decreasing order"
      ],
      "metadata": {
        "id": "wliG2pH6nsLm"
      }
    },
    {
      "cell_type": "code",
      "source": [
        "def is_sorted(lst):\n",
        "    return all(lst[i] <= lst[i + 1] for i in range(len(lst) - 1))\n",
        "data1 = [1, 2, 3, 4, 5]\n",
        "print(is_sorted(data1))"
      ],
      "metadata": {
        "colab": {
          "base_uri": "https://localhost:8080/"
        },
        "id": "HouuYS34nsf5",
        "outputId": "44cbded9-abae-4fe9-93cb-00af6767c9a8"
      },
      "execution_count": null,
      "outputs": [
        {
          "output_type": "stream",
          "name": "stdout",
          "text": [
            "True\n"
          ]
        }
      ]
    },
    {
      "cell_type": "markdown",
      "source": [
        "17. Write a Python program to find the intersection of two lists.\n"
      ],
      "metadata": {
        "id": "gIBsP_OAnsyJ"
      }
    },
    {
      "cell_type": "code",
      "source": [
        "def find_intersection(list1, list2):\n",
        "    return list(set(list1) & set(list2))\n",
        "\n",
        "list1 = [1, 2, 3, 4, 5]\n",
        "list2 = [4, 5, 6, 7, 8]\n",
        "intersection = find_intersection(list1, list2)\n",
        "print(intersection)"
      ],
      "metadata": {
        "colab": {
          "base_uri": "https://localhost:8080/"
        },
        "id": "AvDIq_cdntBA",
        "outputId": "cd323763-58b5-4e4a-ac0b-71b6780e733c"
      },
      "execution_count": null,
      "outputs": [
        {
          "output_type": "stream",
          "name": "stdout",
          "text": [
            "[4, 5]\n"
          ]
        }
      ]
    },
    {
      "cell_type": "markdown",
      "source": [
        "18. Implement a function to find the maximum subarray sum in a given list"
      ],
      "metadata": {
        "id": "dAkywIsAntSR"
      }
    },
    {
      "cell_type": "code",
      "source": [],
      "metadata": {
        "id": "1RiJaWjCntls"
      },
      "execution_count": null,
      "outputs": []
    },
    {
      "cell_type": "markdown",
      "source": [
        "19. Write a program to remove all vowels from a given string.\n"
      ],
      "metadata": {
        "id": "9qfTDO2Ont3g"
      }
    },
    {
      "cell_type": "code",
      "source": [
        "def remove_vowels(string):\n",
        "    vowels = \"aeiouAEIOU\"\n",
        "    return \"\".join(char for char in string if char not in vowels)\n",
        "\n",
        "input_string = \"Hello, World!\"\n",
        "result = remove_vowels(input_string)\n",
        "print(result)\n"
      ],
      "metadata": {
        "colab": {
          "base_uri": "https://localhost:8080/"
        },
        "id": "3WTGAzphnuLq",
        "outputId": "a789dce5-7467-436e-dd7e-84091b266ce5"
      },
      "execution_count": null,
      "outputs": [
        {
          "output_type": "stream",
          "name": "stdout",
          "text": [
            "Hll, Wrld!\n"
          ]
        }
      ]
    },
    {
      "cell_type": "markdown",
      "source": [
        "20. Implement a function to reverse the order of words in a given sentence.\n"
      ],
      "metadata": {
        "id": "DGam5cf1nucX"
      }
    },
    {
      "cell_type": "code",
      "source": [
        "def reverse_words(sentence):\n",
        "    words = sentence.split()\n",
        "    reversed_words = words[::-1]\n",
        "    reversed_sentence = \" \".join(reversed_words)\n",
        "    return reversed_sentence\n",
        "\n",
        "input_sentence = input(\"Enter a sentence: \")\n",
        "result = reverse_words(input_sentence)\n",
        "print(\"Reversed sentence:\", result)\n"
      ],
      "metadata": {
        "id": "0WD9vWKQnusc",
        "colab": {
          "base_uri": "https://localhost:8080/"
        },
        "outputId": "0fa57c2b-e5e4-428b-bcb3-2ffdcdb54113"
      },
      "execution_count": null,
      "outputs": [
        {
          "output_type": "stream",
          "name": "stdout",
          "text": [
            "Enter a sentence: Hello world, how are you?\n",
            "Reversed sentence: you? are how world, Hello\n"
          ]
        }
      ]
    },
    {
      "cell_type": "markdown",
      "source": [
        "21. Write a Python program to check if two strings are anagrams of each other."
      ],
      "metadata": {
        "id": "Nyya13Menu8h"
      }
    },
    {
      "cell_type": "code",
      "source": [
        "str1=\"Race\"\n",
        "str2=\"Cared\"\n",
        "\n",
        "str1=str1.lower()\n",
        "str2=str2.lower()\n",
        "s_str1=sorted(str1)\n",
        "s_str2=sorted(str2)\n",
        "if(s_str1==s_str2):\n",
        "  print(str1 + ' and ' + str2+\" are anagram\")\n",
        "else:\n",
        "  print(str1 + ' and '+ str2+\" are not anagram\")"
      ],
      "metadata": {
        "colab": {
          "base_uri": "https://localhost:8080/"
        },
        "id": "A58sx3s-nvNM",
        "outputId": "3b76ea79-9537-4933-b21d-aca2e6886653"
      },
      "execution_count": null,
      "outputs": [
        {
          "output_type": "stream",
          "name": "stdout",
          "text": [
            "race and cared are not anagram\n"
          ]
        }
      ]
    },
    {
      "cell_type": "markdown",
      "source": [
        "22. Implement a function to find the first non-repeating character in a string.\n"
      ],
      "metadata": {
        "id": "jrKC2iLGnviW"
      }
    },
    {
      "cell_type": "code",
      "source": [
        "def find_first_non_repeating_char(string):\n",
        "    char_count = {}\n",
        "\n",
        "    # Count the occurrences of each character\n",
        "    for char in string:\n",
        "        if char in char_count:\n",
        "            char_count[char] += 1\n",
        "        else:\n",
        "            char_count[char] = 1\n",
        "\n",
        "    # Find the first non-repeating character\n",
        "    for char in string:\n",
        "        if char_count[char] == 1:\n",
        "            return char\n",
        "\n",
        "    return None\n",
        "\n",
        "input_string = \"aabbcde\"\n",
        "result = find_first_non_repeating_char(input_string)\n",
        "print(\"First non-repeating character:\", result)\n"
      ],
      "metadata": {
        "id": "F921xkH9nvyA",
        "colab": {
          "base_uri": "https://localhost:8080/"
        },
        "outputId": "0d126145-e179-418e-89b6-93faafe4a2ab"
      },
      "execution_count": null,
      "outputs": [
        {
          "output_type": "stream",
          "name": "stdout",
          "text": [
            "First non-repeating character: c\n"
          ]
        }
      ]
    },
    {
      "cell_type": "markdown",
      "source": [
        "23. Write a program to find the prime factors of a given number.\n"
      ],
      "metadata": {
        "id": "xgAPQO0knwC1"
      }
    },
    {
      "cell_type": "code",
      "source": [
        "def prime_factors(n):\n",
        "    factors = []\n",
        "    i = 2\n",
        "\n",
        "    while i * i <= n:\n",
        "        if n % i:\n",
        "            i += 1\n",
        "        else:\n",
        "            n //= i\n",
        "            factors.append(i)\n",
        "\n",
        "    if n > 1:\n",
        "        factors.append(n)\n",
        "\n",
        "    return factors\n",
        "\n",
        "number = int(input(\"Enter a number: \"))\n",
        "result = prime_factors(number)\n",
        "print(\"Prime factors of\", number, \"are:\", result)\n"
      ],
      "metadata": {
        "id": "z_J8I1KbnwSN",
        "colab": {
          "base_uri": "https://localhost:8080/"
        },
        "outputId": "07bd4ed7-dcab-4ce6-b117-f549a705944c"
      },
      "execution_count": null,
      "outputs": [
        {
          "output_type": "stream",
          "name": "stdout",
          "text": [
            "Enter a number: 98\n",
            "Prime factors of 98 are: [2, 7, 7]\n"
          ]
        }
      ]
    },
    {
      "cell_type": "markdown",
      "source": [
        "24. Implement a function to check if a given number is a power of two.\n"
      ],
      "metadata": {
        "id": "lG9ZnjRHnwiM"
      }
    },
    {
      "cell_type": "code",
      "source": [
        "def is_power_of_two(num):\n",
        "    if num <= 0:\n",
        "        return False\n",
        "    return (num & (num - 1)) == 0\n",
        "\n",
        "num=28\n",
        "is_power_of_two(num)"
      ],
      "metadata": {
        "colab": {
          "base_uri": "https://localhost:8080/"
        },
        "id": "j3qgW4NBnwxA",
        "outputId": "16a7baa3-c0e5-4fcf-8a9d-7bb2462afcf8"
      },
      "execution_count": null,
      "outputs": [
        {
          "output_type": "execute_result",
          "data": {
            "text/plain": [
              "False"
            ]
          },
          "metadata": {},
          "execution_count": 16
        }
      ]
    },
    {
      "cell_type": "markdown",
      "source": [
        "25. Write a Python program to merge two sorted lists into a single sorted list."
      ],
      "metadata": {
        "id": "j0GupQMnnxDK"
      }
    },
    {
      "cell_type": "code",
      "source": [
        "def merge_sorted_lists(list1, list2):\n",
        "    return sorted(list1 + list2)\n",
        "\n",
        "list1 = [1, 3, 5, 7, 9]\n",
        "list2 = [2, 4, 6, 8, 10]\n",
        "merged = merge_sorted_lists(list1, list2)\n",
        "print(merged)\n"
      ],
      "metadata": {
        "id": "1Ip9i4dVnxRd",
        "colab": {
          "base_uri": "https://localhost:8080/"
        },
        "outputId": "597b6081-2914-4843-bde0-5d425aacf90d"
      },
      "execution_count": null,
      "outputs": [
        {
          "output_type": "stream",
          "name": "stdout",
          "text": [
            "[1, 2, 3, 4, 5, 6, 7, 8, 9, 10]\n"
          ]
        }
      ]
    },
    {
      "cell_type": "markdown",
      "source": [
        "26. Implement a function to find the mode of a list of numbers."
      ],
      "metadata": {
        "id": "50645VlMnxg3"
      }
    },
    {
      "cell_type": "code",
      "source": [
        "from collections import Counter\n",
        "\n",
        "def find_mode(numbers):\n",
        "    # Count the occurrences of each number\n",
        "    counts = Counter(numbers)\n",
        "\n",
        "    # Find the number(s) with the maximum count\n",
        "    max_count = max(counts.values())\n",
        "    modes = [num for num, count in counts.items() if count == max_count]\n",
        "\n",
        "    return modes\n",
        "\n",
        "number_list = [1, 2, 3, 2, 4, 1, 2]\n",
        "result = find_mode(number_list)\n",
        "print(\"Mode(s) of the list:\", result)\n"
      ],
      "metadata": {
        "id": "x-ubE1Tpnx2V",
        "colab": {
          "base_uri": "https://localhost:8080/"
        },
        "outputId": "0f032f7f-0e20-45b1-ec98-45b909c682a6"
      },
      "execution_count": null,
      "outputs": [
        {
          "output_type": "stream",
          "name": "stdout",
          "text": [
            "Mode(s) of the list: [2]\n"
          ]
        }
      ]
    },
    {
      "cell_type": "markdown",
      "source": [
        "27. Write a program to find the greatest common divisor (GCD) of two numbers."
      ],
      "metadata": {
        "id": "0F36MVEsdEpe"
      }
    },
    {
      "cell_type": "code",
      "source": [
        "def find_gcd(a, b):\n",
        "    while b != 0:\n",
        "        a, b = b, a % b\n",
        "    return a\n",
        "\n",
        "num1 = int(input(\"Enter the first number: \"))\n",
        "num2 = int(input(\"Enter the second number: \"))\n",
        "result = find_gcd(num1, num2)\n",
        "print(\"Greatest Common Divisor (GCD) of\", num1, \"and\", num2, \"is:\", result)\n"
      ],
      "metadata": {
        "colab": {
          "base_uri": "https://localhost:8080/"
        },
        "id": "bZru9x-ldE6a",
        "outputId": "727e1b27-a346-49ea-ee53-fbe268d37bfc"
      },
      "execution_count": null,
      "outputs": [
        {
          "output_type": "stream",
          "name": "stdout",
          "text": [
            "Enter the first number: 48\n",
            "Enter the second number: 62\n",
            "Greatest Common Divisor (GCD) of 48 and 62 is: 2\n"
          ]
        }
      ]
    },
    {
      "cell_type": "markdown",
      "source": [
        "28. Implement a function to calculate the square root of a given number"
      ],
      "metadata": {
        "id": "gY3W0_s2dFKf"
      }
    },
    {
      "cell_type": "code",
      "source": [
        "def calculate_square_root(number):\n",
        "    if number < 0:\n",
        "        raise ValueError(\"Square root is not defined for negative numbers.\")\n",
        "    if number == 0:\n",
        "        return 0\n",
        "\n",
        "    # Initial guess for the square root\n",
        "    guess = number / 2\n",
        "\n",
        "    # Iterate until convergence\n",
        "    while True:\n",
        "        new_guess = (guess + number / guess) / 2\n",
        "        if abs(new_guess - guess) < 1e-6:\n",
        "            return new_guess\n",
        "        guess = new_guess\n",
        "\n",
        "input_number = float(input(\"Enter a number: \"))\n",
        "result = calculate_square_root(input_number)\n",
        "print(\"Square root of\", input_number, \"is:\", result)\n"
      ],
      "metadata": {
        "colab": {
          "base_uri": "https://localhost:8080/"
        },
        "id": "zAosNt1ddFYB",
        "outputId": "58a04ae7-4c88-4536-feb7-0181e1543d2c"
      },
      "execution_count": null,
      "outputs": [
        {
          "output_type": "stream",
          "name": "stdout",
          "text": [
            "Enter a number: 19\n",
            "Square root of 19.0 is: 4.358898943540673\n"
          ]
        }
      ]
    },
    {
      "cell_type": "markdown",
      "source": [
        "29. Write a Python program to check if a given string is a valid palindrome ignoring\n",
        "non-alphanumeric characters.\n"
      ],
      "metadata": {
        "id": "4-p1DxcadFqJ"
      }
    },
    {
      "cell_type": "code",
      "source": [
        "import re\n",
        "\n",
        "def is_valid_palindrome(string):\n",
        "    # Remove non-alphanumeric characters and convert to lowercase\n",
        "    alphanumeric_string = re.sub(r'[^a-zA-Z0-9]', '', string).lower()\n",
        "\n",
        "    # Check if the alphanumeric string is a palindrome\n",
        "    return alphanumeric_string == alphanumeric_string[::-1]\n",
        "\n",
        "input_string = input(\"Enter a string: \")\n",
        "result = is_valid_palindrome(input_string)\n",
        "if result:\n",
        "    print(\"The string is a valid palindrome.\")\n",
        "else:\n",
        "    print(\"The string is not a valid palindrome.\")\n"
      ],
      "metadata": {
        "colab": {
          "base_uri": "https://localhost:8080/"
        },
        "id": "G1hkKfkcdF6L",
        "outputId": "98b7e8e4-6f5b-455d-f480-10d66ecfe534"
      },
      "execution_count": null,
      "outputs": [
        {
          "output_type": "stream",
          "name": "stdout",
          "text": [
            "Enter a string: MOM\n",
            "The string is a valid palindrome.\n"
          ]
        }
      ]
    },
    {
      "cell_type": "markdown",
      "source": [
        "30. Implement a function to find the minimum element in a rotated sorted list.\n"
      ],
      "metadata": {
        "id": "M5QYITHEdGk6"
      }
    },
    {
      "cell_type": "code",
      "source": [
        "def find_min_element(nums):\n",
        "    left = 0\n",
        "    right = len(nums) - 1\n",
        "\n",
        "    while left < right:\n",
        "        mid = left + (right - left) // 2\n",
        "\n",
        "        if nums[mid] > nums[right]:\n",
        "            left = mid + 1\n",
        "        else:\n",
        "            right = mid\n",
        "\n",
        "    return nums[left]\n",
        "\n",
        "input_list = [4, 5, 6, 7, 0, 1, 2]\n",
        "result = find_min_element(input_list)\n",
        "print(\"Minimum element in the list:\", result)\n"
      ],
      "metadata": {
        "colab": {
          "base_uri": "https://localhost:8080/"
        },
        "id": "-QVHuh5idG0W",
        "outputId": "12b25fc1-412a-4848-fa29-e5dd7993c7c2"
      },
      "execution_count": null,
      "outputs": [
        {
          "output_type": "stream",
          "name": "stdout",
          "text": [
            "Minimum element in the list: 0\n"
          ]
        }
      ]
    },
    {
      "cell_type": "markdown",
      "source": [
        "31. Write a program to find the sum of all even numbers in a list.\n"
      ],
      "metadata": {
        "id": "hh1pAYZRdHDH"
      }
    },
    {
      "cell_type": "code",
      "source": [
        "def sum_of_even_numbers(numbers):\n",
        "    sum = 0\n",
        "    for num in numbers:\n",
        "        if num % 2 == 0:\n",
        "            sum += num\n",
        "    return sum\n",
        "\n",
        "number_list = [1, 2, 3, 4, 5, 6, 7, 8, 9, 10]\n",
        "result = sum_of_even_numbers(number_list)\n",
        "print(\"Sum of even numbers in the list:\", result)\n"
      ],
      "metadata": {
        "colab": {
          "base_uri": "https://localhost:8080/"
        },
        "id": "cSe1dnV0dHSY",
        "outputId": "64961ec7-ec2d-4681-85f0-5fdc53a9a498"
      },
      "execution_count": null,
      "outputs": [
        {
          "output_type": "stream",
          "name": "stdout",
          "text": [
            "Sum of even numbers in the list: 30\n"
          ]
        }
      ]
    },
    {
      "cell_type": "markdown",
      "source": [
        "32. Implement a function to calculate the power of a number using recursion.\n"
      ],
      "metadata": {
        "id": "_wfYkrVEdHhK"
      }
    },
    {
      "cell_type": "code",
      "source": [
        "def power(base, exponent):\n",
        "    if exponent == 0:\n",
        "        return 1\n",
        "    elif exponent < 0:\n",
        "        return 1 / power(base, -exponent)\n",
        "    else:\n",
        "        return base * power(base, exponent - 1)\n",
        "\n",
        "base = float(input(\"Enter the base number: \"))\n",
        "exponent = int(input(\"Enter the exponent: \"))\n",
        "result = power(base, exponent)\n",
        "print(\"Result:\", result)\n"
      ],
      "metadata": {
        "colab": {
          "base_uri": "https://localhost:8080/"
        },
        "id": "XlWuHj2qdHwZ",
        "outputId": "74a5cf47-a94b-4bd2-e825-9b20960eebab"
      },
      "execution_count": null,
      "outputs": [
        {
          "output_type": "stream",
          "name": "stdout",
          "text": [
            "Enter the base number: 9\n",
            "Enter the exponent: 3\n",
            "Result: 729.0\n"
          ]
        }
      ]
    },
    {
      "cell_type": "markdown",
      "source": [
        "33. Write a Python program to remove duplicates from a list while preserving the order.\n"
      ],
      "metadata": {
        "id": "5IWH_nKKdH-1"
      }
    },
    {
      "cell_type": "code",
      "source": [
        "def remove_duplicates_preserve_order(lst):\n",
        "    unique_list = []\n",
        "    seen = set()\n",
        "\n",
        "    for item in lst:\n",
        "        if item not in seen:\n",
        "            unique_list.append(item)\n",
        "            seen.add(item)\n",
        "\n",
        "    return unique_list\n",
        "\n",
        "input_list = [1, 3, 2, 2, 4, 3, 5, 1, 6, 5]\n",
        "result = remove_duplicates_preserve_order(input_list)\n",
        "print(\"List with duplicates removed:\", result)\n"
      ],
      "metadata": {
        "colab": {
          "base_uri": "https://localhost:8080/"
        },
        "id": "nBbkFZgVdIND",
        "outputId": "2769f665-1648-45cf-b983-6456b326b5b3"
      },
      "execution_count": null,
      "outputs": [
        {
          "output_type": "stream",
          "name": "stdout",
          "text": [
            "List with duplicates removed: [1, 3, 2, 4, 5, 6]\n"
          ]
        }
      ]
    },
    {
      "cell_type": "markdown",
      "source": [
        "34. Implement a function to find the longest common prefix among a list of strings.\n"
      ],
      "metadata": {
        "id": "L-C5C3zzdIay"
      }
    },
    {
      "cell_type": "code",
      "source": [
        "def longest_common_prefix(strings):\n",
        "    if not strings:\n",
        "        return \"\"\n",
        "\n",
        "    # Find the minimum length among all strings\n",
        "    min_length = min(len(s) for s in strings)\n",
        "\n",
        "    # Iterate character by character\n",
        "    for i in range(min_length):\n",
        "        char = strings[0][i]\n",
        "\n",
        "        # Check if the character is the same in all strings\n",
        "        if all(s[i] == char for s in strings):\n",
        "            continue\n",
        "        else:\n",
        "            return strings[0][:i]\n",
        "\n",
        "    return strings[0][:min_length]\n",
        "\n",
        "string_list = [\"flower\", \"flow\", \"flight\"]\n",
        "result = longest_common_prefix(string_list)\n",
        "print(\"Longest common prefix:\", result)\n"
      ],
      "metadata": {
        "colab": {
          "base_uri": "https://localhost:8080/"
        },
        "id": "IBdNNJspdIp4",
        "outputId": "e180d55d-fe54-45d2-84ac-8b42f2dd48a9"
      },
      "execution_count": null,
      "outputs": [
        {
          "output_type": "stream",
          "name": "stdout",
          "text": [
            "Longest common prefix: fl\n"
          ]
        }
      ]
    },
    {
      "cell_type": "markdown",
      "source": [
        "35. Write a program to check if a given number is a perfect square.\n",
        "\n"
      ],
      "metadata": {
        "id": "wwfaMGstdI7Q"
      }
    },
    {
      "cell_type": "code",
      "source": [
        "def is_perfect_square(number):\n",
        "    if number < 0:\n",
        "        return False\n",
        "\n",
        "    root = int(number ** 0.5)\n",
        "    return root * root == number\n",
        "\n",
        "input_number = int(input(\"Enter a number: \"))\n",
        "result = is_perfect_square(input_number)\n",
        "if result:\n",
        "    print(\"The number is a perfect square.\")\n",
        "else:\n",
        "    print(\"The number is not a perfect square.\")\n"
      ],
      "metadata": {
        "colab": {
          "base_uri": "https://localhost:8080/"
        },
        "id": "GuIaaNz8dJP8",
        "outputId": "cdc47043-f12e-4e2e-9cb7-e2f228aba412"
      },
      "execution_count": null,
      "outputs": [
        {
          "output_type": "stream",
          "name": "stdout",
          "text": [
            "Enter a number: 619\n",
            "The number is not a perfect square.\n"
          ]
        }
      ]
    },
    {
      "cell_type": "markdown",
      "source": [
        "36. Implement a function to calculate the product of all elements in a list."
      ],
      "metadata": {
        "id": "qJ069DYCdJev"
      }
    },
    {
      "cell_type": "code",
      "source": [
        "def calculate_product(numbers):\n",
        "    product = 1\n",
        "    for num in numbers:\n",
        "        product *= num\n",
        "    return product\n",
        "\n",
        "number_list = [1, 2, 3, 4, 5]\n",
        "result = calculate_product(number_list)\n",
        "print(\"Product of all elements in the list:\", result)\n"
      ],
      "metadata": {
        "colab": {
          "base_uri": "https://localhost:8080/"
        },
        "id": "gSK7NAA7dJuZ",
        "outputId": "026fe528-b257-4554-b03b-92f76d346c82"
      },
      "execution_count": null,
      "outputs": [
        {
          "output_type": "stream",
          "name": "stdout",
          "text": [
            "Product of all elements in the list: 120\n"
          ]
        }
      ]
    },
    {
      "cell_type": "markdown",
      "source": [
        "37. Write a Python program to reverse the order of words in a sentence while preserving the\n",
        "word order."
      ],
      "metadata": {
        "id": "b86aAHdxdJ96"
      }
    },
    {
      "cell_type": "code",
      "source": [
        "def reverse_sentence(sentence):\n",
        "    words = sentence.split()\n",
        "    reversed_words = words[::-1]\n",
        "    reversed_sentence = \" \".join(reversed_words)\n",
        "    return reversed_sentence\n",
        "\n",
        "input_sentence = input(\"Enter a sentence: \")\n",
        "result = reverse_sentence(input_sentence)\n",
        "print(\"Reversed sentence:\", result)\n"
      ],
      "metadata": {
        "colab": {
          "base_uri": "https://localhost:8080/"
        },
        "id": "lvrSD121dKM3",
        "outputId": "64522eb8-9234-4081-8574-cb8d01bb018a"
      },
      "execution_count": null,
      "outputs": [
        {
          "output_type": "stream",
          "name": "stdout",
          "text": [
            "Enter a sentence: HELLO INEURON\n",
            "Reversed sentence: INEURON HELLO\n"
          ]
        }
      ]
    },
    {
      "cell_type": "markdown",
      "source": [
        "38. Implement a function to find the missing number in a given list of consecutive numbers."
      ],
      "metadata": {
        "id": "HzpRHBZXdKcx"
      }
    },
    {
      "cell_type": "code",
      "source": [
        "def find_missing_number(numbers):\n",
        "    n = len(numbers) + 1\n",
        "    expected_sum = n * (n + 1) // 2\n",
        "    actual_sum = sum(numbers)\n",
        "    missing_number = expected_sum - actual_sum\n",
        "    return missing_number\n",
        "\n",
        "number_list = [1, 2, 3, 5, 6, 7, 8]\n",
        "result = find_missing_number(number_list)\n",
        "print(\"Missing number:\", result)\n"
      ],
      "metadata": {
        "colab": {
          "base_uri": "https://localhost:8080/"
        },
        "id": "mkQGnErNdKrA",
        "outputId": "9e2fb24e-3f32-4941-eed6-3176a160d3e6"
      },
      "execution_count": null,
      "outputs": [
        {
          "output_type": "stream",
          "name": "stdout",
          "text": [
            "Missing number: 4\n"
          ]
        }
      ]
    },
    {
      "cell_type": "markdown",
      "source": [
        "39. Write a program to find the sum of digits of a given number."
      ],
      "metadata": {
        "id": "6vI_3rtYdK8C"
      }
    },
    {
      "cell_type": "code",
      "source": [
        "def sum_of_digits(number):\n",
        "    sum = 0\n",
        "    while number > 0:\n",
        "        digit = number % 10\n",
        "        sum += digit\n",
        "        number //= 10\n",
        "    return sum\n",
        "\n",
        "input_number = int(input(\"Enter a number: \"))\n",
        "result = sum_of_digits(input_number)\n",
        "print(\"Sum of digits:\", result)\n"
      ],
      "metadata": {
        "colab": {
          "base_uri": "https://localhost:8080/"
        },
        "id": "88h6IiK4dLKF",
        "outputId": "e8c43835-076b-47f7-9a19-818685e6a5e6"
      },
      "execution_count": null,
      "outputs": [
        {
          "output_type": "stream",
          "name": "stdout",
          "text": [
            "Enter a number: 729\n",
            "Sum of digits: 18\n"
          ]
        }
      ]
    },
    {
      "cell_type": "markdown",
      "source": [
        "40. Implement a function to check if a given string is a valid palindrome considering case\n",
        "sensitivity."
      ],
      "metadata": {
        "id": "ZikmuDoWdLZJ"
      }
    },
    {
      "cell_type": "code",
      "source": [
        "def is_valid_palindrome(string):\n",
        "    # Remove non-alphanumeric characters and convert to lowercase\n",
        "    alphanumeric_string = ''.join(c.lower() for c in string if c.isalnum())\n",
        "\n",
        "    # Check if the alphanumeric string is a palindrome\n",
        "    return alphanumeric_string == alphanumeric_string[::-1]\n",
        "\n",
        "input_string = input(\"Enter a string: \")\n",
        "result = is_valid_palindrome(input_string)\n",
        "if result:\n",
        "    print(\"The string is a valid palindrome.\")\n",
        "else:\n",
        "    print(\"The string is not a valid palindrome.\")\n"
      ],
      "metadata": {
        "colab": {
          "base_uri": "https://localhost:8080/"
        },
        "id": "DuOcg7ERdLoT",
        "outputId": "14b03dde-054a-4d12-eae6-fdc1fd9e7484"
      },
      "execution_count": null,
      "outputs": [
        {
          "output_type": "stream",
          "name": "stdout",
          "text": [
            "Enter a string: MOM@\n",
            "The string is a valid palindrome.\n"
          ]
        }
      ]
    },
    {
      "cell_type": "markdown",
      "source": [
        "41. Write a Python program to find the smallest missing positive integer in a list."
      ],
      "metadata": {
        "id": "JRtoGgNCdL3r"
      }
    },
    {
      "cell_type": "code",
      "source": [
        "def find_smallest_missing_positive_integer(nums):\n",
        "    # Separate positive numbers from non-positive numbers\n",
        "    positive_nums = [num for num in nums if num > 0]\n",
        "\n",
        "    # Check if the list is empty or only contains non-positive numbers\n",
        "    if not positive_nums:\n",
        "        return 1\n",
        "\n",
        "    # Create a set of positive numbers for efficient lookup\n",
        "    positive_set = set(positive_nums)\n",
        "\n",
        "    # Find the smallest missing positive integer\n",
        "    max_num = max(positive_nums)\n",
        "    for i in range(1, max_num + 2):\n",
        "        if i not in positive_set:\n",
        "            return i\n",
        "number_list = [-1, 3, 1, 4, 2, 7, -5, 0]\n",
        "result = find_smallest_missing_positive_integer(number_list)\n",
        "print(\"Smallest missing positive integer:\", result)\n"
      ],
      "metadata": {
        "colab": {
          "base_uri": "https://localhost:8080/"
        },
        "id": "HqwNm365dMEd",
        "outputId": "9dfe67ec-3b57-4d0c-c04d-9da59be6ce68"
      },
      "execution_count": null,
      "outputs": [
        {
          "output_type": "stream",
          "name": "stdout",
          "text": [
            "Smallest missing positive integer: 5\n"
          ]
        }
      ]
    },
    {
      "cell_type": "markdown",
      "source": [
        "42. Implement a function to find the longest palindrome substring in a given string."
      ],
      "metadata": {
        "id": "2h6HOdWcdMS-"
      }
    },
    {
      "cell_type": "code",
      "source": [
        "def longest_palindrome_substring(string):\n",
        "    n = len(string)\n",
        "    max_length = 0\n",
        "    start = 0\n",
        "\n",
        "    # Create a table to store the results of substring comparisons\n",
        "    table = [[False] * n for _ in range(n)]\n",
        "\n",
        "    # All individual characters are palindromes\n",
        "    for i in range(n):\n",
        "        table[i][i] = True\n",
        "        max_length = 1\n",
        "\n",
        "    # Check for palindromes of length 2\n",
        "    for i in range(n - 1):\n",
        "        if string[i] == string[i + 1]:\n",
        "            table[i][i + 1] = True\n",
        "            start = i\n",
        "            max_length = 2\n",
        "\n",
        "    # Check for palindromes of length greater than 2\n",
        "    for length in range(3, n + 1):\n",
        "        for i in range(n - length + 1):\n",
        "            j = i + length - 1\n",
        "\n",
        "            if string[i] == string[j] and table[i + 1][j - 1]:\n",
        "                table[i][j] = True\n",
        "                start = i\n",
        "                max_length = length\n",
        "\n",
        "    return string[start:start + max_length]\n",
        "\n",
        "input_string = input(\"Enter a string: \")\n",
        "result = longest_palindrome_substring(input_string)\n",
        "print(\"Longest palindrome substring:\", result)\n"
      ],
      "metadata": {
        "colab": {
          "base_uri": "https://localhost:8080/"
        },
        "id": "AgFnrx-adMic",
        "outputId": "b1dd46f7-fa1a-4ce9-cd88-405b73c622a4"
      },
      "execution_count": null,
      "outputs": [
        {
          "output_type": "stream",
          "name": "stdout",
          "text": [
            "Enter a string: babad\n",
            "Longest palindrome substring: aba\n"
          ]
        }
      ]
    },
    {
      "cell_type": "markdown",
      "source": [
        "43. Write a program to find the number of occurrences of a given element in a list."
      ],
      "metadata": {
        "id": "X4fzfLjWdMxX"
      }
    },
    {
      "cell_type": "code",
      "source": [
        "def count_occurrences(lst, element):\n",
        "    count = 0\n",
        "    for item in lst:\n",
        "        if item == element:\n",
        "            count += 1\n",
        "    return count\n",
        "\n",
        "input_list = [1, 2, 3, 4, 2, 2, 5, 6, 2]\n",
        "element = int(input(\"Enter the element to count: \"))\n",
        "result = count_occurrences(input_list, element)\n",
        "print(\"Number of occurrences:\", result)\n"
      ],
      "metadata": {
        "colab": {
          "base_uri": "https://localhost:8080/"
        },
        "id": "TeEi8idOdNAZ",
        "outputId": "b81455f3-1f77-4209-d3f0-6b47b96b6ad7"
      },
      "execution_count": null,
      "outputs": [
        {
          "output_type": "stream",
          "name": "stdout",
          "text": [
            "Enter the element to count: 2\n",
            "Number of occurrences: 4\n"
          ]
        }
      ]
    },
    {
      "cell_type": "markdown",
      "source": [
        "44. Implement a function to check if a given number is a perfect number."
      ],
      "metadata": {
        "id": "nVKwUgNadNTi"
      }
    },
    {
      "cell_type": "code",
      "source": [
        "def is_perfect_number(number):\n",
        "    if number <= 0:\n",
        "        return False\n",
        "\n",
        "    divisors = []\n",
        "    for i in range(1, number):\n",
        "        if number % i == 0:\n",
        "            divisors.append(i)\n",
        "\n",
        "    divisor_sum = sum(divisors)\n",
        "    return divisor_sum == number\n",
        "\n",
        "input_number = int(input(\"Enter a number: \"))\n",
        "result = is_perfect_number(input_number)\n",
        "if result:\n",
        "    print(\"The number is a perfect number.\")\n",
        "else:\n",
        "    print(\"The number is not a perfect number.\")\n"
      ],
      "metadata": {
        "colab": {
          "base_uri": "https://localhost:8080/"
        },
        "id": "0TJ8XNU_dNg4",
        "outputId": "b5773f39-c393-4e35-e3fb-bc871d3eae50"
      },
      "execution_count": null,
      "outputs": [
        {
          "output_type": "stream",
          "name": "stdout",
          "text": [
            "Enter a number: 6\n",
            "The number is a perfect number.\n"
          ]
        }
      ]
    },
    {
      "cell_type": "markdown",
      "source": [
        "45. Write a Python program to remove all duplicates from a string.\n"
      ],
      "metadata": {
        "id": "kNnKmUuodNud"
      }
    },
    {
      "cell_type": "code",
      "source": [
        "def remove_duplicates(string):\n",
        "    unique_chars = []\n",
        "    for char in string:\n",
        "        if char not in unique_chars:\n",
        "            unique_chars.append(char)\n",
        "    return ''.join(unique_chars)\n",
        "\n",
        "input_string = input(\"Enter a string: \")\n",
        "result = remove_duplicates(input_string)\n",
        "print(\"String with duplicates removed:\", result)\n"
      ],
      "metadata": {
        "colab": {
          "base_uri": "https://localhost:8080/"
        },
        "id": "ZmUGuJ-TdN9N",
        "outputId": "cdbb2e7b-d219-4140-981e-adff2923f98d"
      },
      "execution_count": null,
      "outputs": [
        {
          "output_type": "stream",
          "name": "stdout",
          "text": [
            "Enter a string: abracadabra\n",
            "String with duplicates removed: abrcd\n"
          ]
        }
      ]
    },
    {
      "cell_type": "markdown",
      "source": [
        "46. Implement a function to find the first missing positive."
      ],
      "metadata": {
        "id": "QP7rRKCVdOLm"
      }
    },
    {
      "cell_type": "code",
      "source": [
        "def find_first_missing_positive(nums):\n",
        "    n = len(nums)\n",
        "\n",
        "    # Step 1: Separate positive numbers and mark non-positive numbers\n",
        "    for i in range(n):\n",
        "        if nums[i] <= 0:\n",
        "            nums[i] = n + 1\n",
        "\n",
        "    # Step 2: Mark positive numbers in the list\n",
        "    for i in range(n):\n",
        "        num = abs(nums[i])\n",
        "        if num <= n:\n",
        "            nums[num - 1] = -abs(nums[num - 1])\n",
        "\n",
        "    # Step 3: Find the first missing positive number\n",
        "    for i in range(n):\n",
        "        if nums[i] > 0:\n",
        "            return i + 1\n",
        "\n",
        "    # Step 4: If all positive numbers are present, return n + 1\n",
        "    return n + 1\n",
        "\n",
        "input_list = [3, 4, -1, 1]\n",
        "result = find_first_missing_positive(input_list)\n",
        "print(\"First missing positive number:\", result)\n"
      ],
      "metadata": {
        "colab": {
          "base_uri": "https://localhost:8080/"
        },
        "id": "2_WVs9xWdOaE",
        "outputId": "2d71c0e4-f312-43ef-83f8-597c9a9d7a93"
      },
      "execution_count": null,
      "outputs": [
        {
          "output_type": "stream",
          "name": "stdout",
          "text": [
            "First missing positive number: 2\n"
          ]
        }
      ]
    }
  ]
}