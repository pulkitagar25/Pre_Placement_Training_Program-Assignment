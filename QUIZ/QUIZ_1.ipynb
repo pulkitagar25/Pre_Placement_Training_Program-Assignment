{
  "nbformat": 4,
  "nbformat_minor": 0,
  "metadata": {
    "colab": {
      "provenance": []
    },
    "kernelspec": {
      "name": "python3",
      "display_name": "Python 3"
    },
    "language_info": {
      "name": "python"
    }
  },
  "cells": [
    {
      "cell_type": "markdown",
      "source": [
        "Move Zeroes\n",
        "Given an integer array nums, move all 0's to the end of it while maintaining the relative order of the non-zero elements.\n",
        "\n",
        "Note that you must do this in-place without making a copy of the array.\n",
        "\n",
        "Example 1:\n",
        "Input: nums = [0,1,0,3,12]\n",
        "Output: [1,3,12,0,0]\n",
        "\n",
        "Example 2:\n",
        "Input: nums = [0]\n",
        "Output: [0]\n",
        "\n",
        "Constraints:\n",
        "a. 1 <= nums.length <= 10^4\n",
        "b. -2^31 <= nums[i] <= 2^31 - 1\n"
      ],
      "metadata": {
        "id": "dEibtnYnI6B5"
      }
    },
    {
      "cell_type": "code",
      "source": [
        "def moveZeroes(nums):\n",
        "    # Initialize two pointers\n",
        "    left = 0\n",
        "    right = 0\n",
        "    \n",
        "    # Move non-zero elements to the left side of the array\n",
        "    while right < len(nums):\n",
        "        if nums[right] != 0:\n",
        "            nums[left] = nums[right]\n",
        "            left += 1\n",
        "        right += 1\n",
        "    \n",
        "    # Fill the remaining elements with zeroes\n",
        "    while left < len(nums):\n",
        "        nums[left] = 0\n",
        "        left += 1"
      ],
      "metadata": {
        "id": "4KDKHXS-I9Ft"
      },
      "execution_count": 1,
      "outputs": []
    },
    {
      "cell_type": "code",
      "source": [
        "arr=[0,1,0,3,12]\n",
        "moveZeroes(arr)\n",
        "print(arr)"
      ],
      "metadata": {
        "colab": {
          "base_uri": "https://localhost:8080/"
        },
        "id": "Dc9hteeKI--m",
        "outputId": "3c35e2a5-d687-402a-ec44-61cc1bdba350"
      },
      "execution_count": 3,
      "outputs": [
        {
          "output_type": "stream",
          "name": "stdout",
          "text": [
            "[1, 3, 12, 0, 0]\n"
          ]
        }
      ]
    },
    {
      "cell_type": "markdown",
      "source": [
        "First Unique Character in a String\n",
        "\n",
        "Given a string s, find the first non-repeating character in it and return its index. If it does not exist, return -1.\n",
        "\n",
        "Example 1:\n",
        "Input: s = \"leetcode\"\n",
        "Output: 0\n",
        "\n",
        "Example 2:\n",
        "Input: s = \"loveleetcode\"\n",
        "Output: 2\n",
        "\n",
        "Example 3:\n",
        "Input: s = \"aabb\"\n",
        "Output: -1\n",
        "\n",
        "Constraints:\n",
        "a. 1 <= s.length <= 10^5\n",
        "b. s consists of only lowercase English letters.\n"
      ],
      "metadata": {
        "id": "dIvrA_IAJWYd"
      }
    },
    {
      "cell_type": "code",
      "source": [
        "def firstUniqChar(s):\n",
        "    # Create a dictionary to store character frequencies\n",
        "    char_freq = {}\n",
        "    \n",
        "    # Count the frequency of each character\n",
        "    for char in s:\n",
        "        char_freq[char] = char_freq.get(char, 0) + 1\n",
        "    \n",
        "    # Find the index of the first non-repeating character\n",
        "    for i, char in enumerate(s):\n",
        "        if char_freq[char] == 1:\n",
        "            return i\n",
        "    \n",
        "    return -1"
      ],
      "metadata": {
        "id": "tmna-N8MJWt3"
      },
      "execution_count": 4,
      "outputs": []
    },
    {
      "cell_type": "code",
      "source": [
        "# Example 1\n",
        "s = \"leetcode\"\n",
        "print(firstUniqChar(s))  # Output: 0\n",
        "\n",
        "# Example 2\n",
        "s = \"loveleetcode\"\n",
        "print(firstUniqChar(s))  # Output: 2\n",
        "\n",
        "# Example 3\n",
        "s = \"aabb\"\n",
        "print(firstUniqChar(s))  # Output: -1"
      ],
      "metadata": {
        "id": "cg_NFzYBJb9A",
        "outputId": "6f417abb-37a0-4038-9af2-b29a4a487438",
        "colab": {
          "base_uri": "https://localhost:8080/"
        }
      },
      "execution_count": 5,
      "outputs": [
        {
          "output_type": "stream",
          "name": "stdout",
          "text": [
            "0\n",
            "2\n",
            "-1\n"
          ]
        }
      ]
    }
  ]
}