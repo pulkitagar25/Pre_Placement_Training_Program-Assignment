{
  "nbformat": 4,
  "nbformat_minor": 0,
  "metadata": {
    "colab": {
      "provenance": []
    },
    "kernelspec": {
      "name": "python3",
      "display_name": "Python 3"
    },
    "language_info": {
      "name": "python"
    }
  },
  "cells": [
    {
      "cell_type": "markdown",
      "source": [
        "Implement a stack using a list in Python. Include the necessary methods such as push, pop, and isEmpty."
      ],
      "metadata": {
        "id": "QER_Hiknv_oa"
      }
    },
    {
      "cell_type": "code",
      "execution_count": 1,
      "metadata": {
        "id": "WvJRmwmEv-nM"
      },
      "outputs": [],
      "source": [
        "class Stack:\n",
        "    def __init__(self):\n",
        "        self.stack = []\n",
        "\n",
        "    def push(self, item):\n",
        "        self.stack.append(item)\n",
        "\n",
        "    def pop(self):\n",
        "        if not self.isEmpty():\n",
        "            return self.stack.pop()\n",
        "        else:\n",
        "            raise IndexError(\"Stack is empty. Cannot perform pop operation.\")\n",
        "\n",
        "    def isEmpty(self):\n",
        "        return len(self.stack) == 0\n"
      ]
    },
    {
      "cell_type": "code",
      "source": [
        "stack = Stack()\n",
        "print(stack.isEmpty())\n",
        "\n",
        "stack.push(1)\n",
        "stack.push(2)\n",
        "stack.push(3)\n",
        "\n",
        "print(stack.pop())\n",
        "print(stack.pop())\n",
        "print(stack.isEmpty())\n",
        "print(stack.pop())\n",
        "print(stack.isEmpty())\n"
      ],
      "metadata": {
        "colab": {
          "base_uri": "https://localhost:8080/"
        },
        "id": "UU3pth1dwGVv",
        "outputId": "eb41f7fc-3296-44a6-aa1a-d36768f75b57"
      },
      "execution_count": 3,
      "outputs": [
        {
          "output_type": "stream",
          "name": "stdout",
          "text": [
            "True\n",
            "3\n",
            "2\n",
            "False\n",
            "1\n",
            "True\n"
          ]
        }
      ]
    },
    {
      "cell_type": "markdown",
      "source": [
        "Implement a queue using a list in Python. Include the necessary methods such as enqueue, dequeue, and isEmpty."
      ],
      "metadata": {
        "id": "fVZ_xIgBwSD6"
      }
    },
    {
      "cell_type": "code",
      "source": [
        "class Queue:\n",
        "    def __init__(self):\n",
        "        self.queue = []\n",
        "\n",
        "    def enqueue(self, item):\n",
        "        self.queue.append(item)\n",
        "\n",
        "    def dequeue(self):\n",
        "        if not self.isEmpty():\n",
        "            return self.queue.pop(0)\n",
        "        else:\n",
        "            raise IndexError(\"Queue is empty. Cannot perform dequeue operation.\")\n",
        "\n",
        "    def isEmpty(self):\n",
        "        return len(self.queue) == 0\n"
      ],
      "metadata": {
        "id": "PpTsJ1f3wStI"
      },
      "execution_count": 4,
      "outputs": []
    },
    {
      "cell_type": "code",
      "source": [
        "queue = Queue()\n",
        "print(queue.isEmpty())\n",
        "\n",
        "queue.enqueue(1)\n",
        "queue.enqueue(2)\n",
        "queue.enqueue(3)\n",
        "\n",
        "print(queue.dequeue())\n",
        "print(queue.dequeue())\n",
        "print(queue.isEmpty())\n",
        "print(queue.dequeue())\n",
        "print(queue.isEmpty())\n"
      ],
      "metadata": {
        "colab": {
          "base_uri": "https://localhost:8080/"
        },
        "id": "LU_X4ZU4wWFA",
        "outputId": "70041add-41b3-4517-bcf5-e50291ae0f60"
      },
      "execution_count": 5,
      "outputs": [
        {
          "output_type": "stream",
          "name": "stdout",
          "text": [
            "True\n",
            "1\n",
            "2\n",
            "False\n",
            "3\n",
            "True\n"
          ]
        }
      ]
    }
  ]
}