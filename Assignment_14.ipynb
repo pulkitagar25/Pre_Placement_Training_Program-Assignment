{
  "nbformat": 4,
  "nbformat_minor": 0,
  "metadata": {
    "colab": {
      "provenance": []
    },
    "kernelspec": {
      "name": "python3",
      "display_name": "Python 3"
    },
    "language_info": {
      "name": "python"
    }
  },
  "cells": [
    {
      "cell_type": "markdown",
      "source": [
        "Question 1\n",
        "\n",
        "Given a linked list of N nodes such that it may contain a loop. A loop here means that the last node of the link list is connected to the node at position X(1-based index). If the link list does not have any loop, X=0. Remove the loop from the linked list, if it is present, i.e. unlink the last node which is forming the loop. *Example 1:* Input: N = 3 value[] = {1,3,4} X = 2 Output:1 Explanation:The link list looks like 1 -> 3 -> 4 ^ | |____| A loop is present. If you remove it successfully, the answer will be 1."
      ],
      "metadata": {
        "id": "q3dazhdwBfg-"
      }
    },
    {
      "cell_type": "code",
      "execution_count": 3,
      "metadata": {
        "colab": {
          "base_uri": "https://localhost:8080/"
        },
        "id": "3C9xrWEyBeYX",
        "outputId": "41182df8-6e0b-4dd6-ad67-1bcbeeec349b"
      },
      "outputs": [
        {
          "output_type": "stream",
          "name": "stdout",
          "text": [
            "1 3 4 \n",
            "1 8 3 4 \n",
            "1 "
          ]
        }
      ],
      "source": [
        "class ListNode:\n",
        "    def __init__(self, val=0, next=None):\n",
        "        self.val = val\n",
        "        self.next = next\n",
        "\n",
        "def detectAndRemoveLoop(head):\n",
        "    if not head or not head.next:\n",
        "        return head\n",
        "\n",
        "    slow = head\n",
        "    fast = head\n",
        "\n",
        "    # Detect loop\n",
        "    while fast and fast.next:\n",
        "        slow = slow.next\n",
        "        fast = fast.next.next\n",
        "        if slow == fast:\n",
        "            break\n",
        "\n",
        "    # No loop found\n",
        "    if slow != fast:\n",
        "        return head\n",
        "\n",
        "    # Move slow to the head and find the start of the loop\n",
        "    slow = head\n",
        "    while slow.next != fast.next:\n",
        "        slow = slow.next\n",
        "        fast = fast.next\n",
        "\n",
        "    # Break the loop\n",
        "    fast.next = None\n",
        "\n",
        "    return head\n",
        "\n",
        "# Example 1\n",
        "# LinkedList: 1 -> 3 -> 4\n",
        "head1 = ListNode(1)\n",
        "head1.next = ListNode(3)\n",
        "head1.next.next = ListNode(4)\n",
        "head1.next.next.next = head1.next  # Creating a loop by connecting the tail to the second node\n",
        "\n",
        "head1 = detectAndRemoveLoop(head1)\n",
        "\n",
        "# Print the modified linked list\n",
        "while head1:\n",
        "    print(head1.val, end=' ')\n",
        "    head1 = head1.next\n",
        "\n",
        "print()\n",
        "\n",
        "# Example 2\n",
        "# LinkedList: 1 -> 8 -> 3 -> 4\n",
        "head2 = ListNode(1)\n",
        "head2.next = ListNode(8)\n",
        "head2.next.next = ListNode(3)\n",
        "head2.next.next.next = ListNode(4)\n",
        "\n",
        "head2 = detectAndRemoveLoop(head2)\n",
        "\n",
        "# Print the modified linked list\n",
        "while head2:\n",
        "    print(head2.val, end=' ')\n",
        "    head2 = head2.next\n",
        "\n",
        "print()\n",
        "\n",
        "# Example 3\n",
        "# LinkedList: 1 -> 2 -> 3 -> 4\n",
        "head3 = ListNode(1)\n",
        "head3.next = ListNode(2)\n",
        "head3.next.next = ListNode(3)\n",
        "head3.next.next.next = ListNode(4)\n",
        "head3.next.next.next.next = head3  # Creating a loop by connecting the tail to the head\n",
        "\n",
        "head3 = detectAndRemoveLoop(head3)\n",
        "\n",
        "# Print the modified linked list\n",
        "while head3:\n",
        "    print(head3.val, end=' ')\n",
        "    head3 = head3.next\n"
      ]
    },
    {
      "cell_type": "markdown",
      "source": [
        "Question 2\n",
        "\n",
        "A number N is represented in Linked List such that each digit corresponds to a node in linked list. You need to add 1 to it."
      ],
      "metadata": {
        "id": "m0sljB7sBhPL"
      }
    },
    {
      "cell_type": "code",
      "source": [
        "class ListNode:\n",
        "    def __init__(self, val=0, next=None):\n",
        "        self.val = val\n",
        "        self.next = next\n",
        "\n",
        "def reverseLinkedList(head):\n",
        "    prev = None\n",
        "    curr = head\n",
        "    while curr:\n",
        "        next_node = curr.next\n",
        "        curr.next = prev\n",
        "        prev = curr\n",
        "        curr = next_node\n",
        "    return prev\n",
        "\n",
        "def addOne(head):\n",
        "    # Reverse the linked list\n",
        "    head = reverseLinkedList(head)\n",
        "\n",
        "    # Traverse the reversed linked list and add 1\n",
        "    curr = head\n",
        "    carry = 1\n",
        "    while curr:\n",
        "        total = curr.val + carry\n",
        "        curr.val = total % 10\n",
        "        carry = total // 10\n",
        "        if not curr.next:\n",
        "            break\n",
        "        curr = curr.next\n",
        "\n",
        "    # If there is still a carry, add a new node with carry\n",
        "    if carry:\n",
        "        curr.next = ListNode(carry)\n",
        "\n",
        "    # Reverse the linked list again to restore the original order\n",
        "    head = reverseLinkedList(head)\n",
        "\n",
        "    return head\n",
        "\n",
        "# Example 1\n",
        "# LinkedList: 4 -> 5 -> 6\n",
        "head1 = ListNode(4)\n",
        "head1.next = ListNode(5)\n",
        "head1.next.next = ListNode(6)\n",
        "\n",
        "head1 = addOne(head1)\n",
        "\n",
        "# Print the modified linked list\n",
        "while head1:\n",
        "    print(head1.val, end='')\n",
        "    head1 = head1.next\n",
        "\n",
        "print()\n",
        "\n",
        "# Example 2\n",
        "# LinkedList: 1 -> 2 -> 3\n",
        "head2 = ListNode(1)\n",
        "head2.next = ListNode(2)\n",
        "head2.next.next = ListNode(3)\n",
        "\n",
        "head2 = addOne(head2)\n",
        "\n",
        "# Print the modified linked list\n",
        "while head2:\n",
        "    print(head2.val, end='')\n",
        "    head2 = head2.next\n"
      ],
      "metadata": {
        "colab": {
          "base_uri": "https://localhost:8080/"
        },
        "id": "g-7Y8yA5BhXU",
        "outputId": "f1265da3-572e-455b-c26c-18c15a261115"
      },
      "execution_count": 4,
      "outputs": [
        {
          "output_type": "stream",
          "name": "stdout",
          "text": [
            "457\n",
            "124"
          ]
        }
      ]
    },
    {
      "cell_type": "markdown",
      "source": [
        "Question 3\n",
        "\n",
        "Given a Linked List of size N, where every node represents a sub-linked-list and contains two pointers:(i) a next pointer to the next node,(ii) a bottom pointer to a linked list where this node is head.Each of the sub-linked-list is in sorted order.Flatten the Link List such that all the nodes appear in a single level while maintaining the sorted order. Note: The flattened list will be printed using the bottom pointer instead of next pointer."
      ],
      "metadata": {
        "id": "vZQMUMvvBhgF"
      }
    },
    {
      "cell_type": "code",
      "source": [],
      "metadata": {
        "id": "cjk93KsPBhos"
      },
      "execution_count": null,
      "outputs": []
    },
    {
      "cell_type": "markdown",
      "source": [
        "<aside>\n",
        "💡 **Question 4**\n",
        "\n",
        "You are given a special linked list with **N** nodes where each node has a next pointer pointing to its next node. You are also given **M** random pointers, where you will be given **M** number of pairs denoting two nodes **a** and **b**  **i.e. a->arb = b** (arb is pointer to random node)**.**\n",
        "\n",
        "Construct a copy of the given list. The copy should consist of exactly **N** new nodes, where each new node has its value set to the value of its corresponding original node. Both the next and random pointer of the new nodes should point to new nodes in the copied list such that the pointers in the original list and copied list represent the same list state. None of the pointers in the new list should point to nodes in the original list.\n",
        "\n",
        "For example, if there are two nodes **X** and **Y** in the original list, where **X.arb** **-->** **Y**, then for the corresponding two nodes **x** and **y** in the copied list, **x.arb --> y.**\n",
        "\n",
        "Return the head of the copied linked list.\n",
        "\n",
        "</aside>"
      ],
      "metadata": {
        "id": "WyZe0cHmBh7K"
      }
    },
    {
      "cell_type": "code",
      "source": [],
      "metadata": {
        "id": "1dtoOR8mBiC9"
      },
      "execution_count": null,
      "outputs": []
    },
    {
      "cell_type": "markdown",
      "source": [
        "<aside>\n",
        "💡 **Question 5**\n",
        "\n",
        "Given the `head` of a singly linked list, group all the nodes with odd indices together followed by the nodes with even indices, and return *the reordered list*.\n",
        "\n",
        "The **first** node is considered **odd**, and the **second** node is **even**, and so on.\n",
        "\n",
        "Note that the relative order inside both the even and odd groups should remain as it was in the input.\n",
        "\n",
        "You must solve the problem in `O(1)` extra space complexity and `O(n)` time complexity.\n",
        "\n",
        "</aside>"
      ],
      "metadata": {
        "id": "u7pRtogzBiK7"
      }
    },
    {
      "cell_type": "code",
      "source": [],
      "metadata": {
        "id": "a0WPlt8OBiSC"
      },
      "execution_count": null,
      "outputs": []
    },
    {
      "cell_type": "markdown",
      "source": [
        "<aside>\n",
        "💡 **Question 6**\n",
        "\n",
        "Given a singly linked list of size **N**. The task is to **left-shift** the linked list by **k** nodes, where **k** is a given positive integer smaller than or equal to length of the linked list.\n",
        "\n",
        "</aside>"
      ],
      "metadata": {
        "id": "mabKEqadBia1"
      }
    },
    {
      "cell_type": "code",
      "source": [],
      "metadata": {
        "id": "Fs5TEdSlBijU"
      },
      "execution_count": null,
      "outputs": []
    },
    {
      "cell_type": "markdown",
      "source": [
        "<aside>\n",
        "💡 **Question 7**\n",
        "\n",
        "You are given the `head` of a linked list with `n` nodes.\n",
        "\n",
        "For each node in the list, find the value of the **next greater node**. That is, for each node, find the value of the first node that is next to it and has a **strictly larger** value than it.\n",
        "\n",
        "Return an integer array `answer` where `answer[i]` is the value of the next greater node of the `ith` node (**1-indexed**). If the `ith` node does not have a next greater node, set `answer[i] = 0`.\n",
        "\n",
        "</aside>"
      ],
      "metadata": {
        "id": "2Vq_O_qXBiqU"
      }
    },
    {
      "cell_type": "code",
      "source": [],
      "metadata": {
        "id": "9RoUoi6_Biyy"
      },
      "execution_count": null,
      "outputs": []
    },
    {
      "cell_type": "markdown",
      "source": [
        "<aside>\n",
        "💡 **Question 8**\n",
        "\n",
        "Given the `head` of a linked list, we repeatedly delete consecutive sequences of nodes that sum to `0` until there are no such sequences.\n",
        "\n",
        "After doing so, return the head of the final linked list.  You may return any such answer.\n",
        "\n",
        "(Note that in the examples below, all sequences are serializations of `ListNode` objects.)\n",
        "\n",
        "</aside>"
      ],
      "metadata": {
        "id": "-lE1rCIPBi7X"
      }
    },
    {
      "cell_type": "code",
      "source": [],
      "metadata": {
        "id": "J5-9SqAtBjCt"
      },
      "execution_count": null,
      "outputs": []
    }
  ]
}