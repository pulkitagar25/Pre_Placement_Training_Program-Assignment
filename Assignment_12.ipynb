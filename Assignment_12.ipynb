{
  "nbformat": 4,
  "nbformat_minor": 0,
  "metadata": {
    "colab": {
      "provenance": []
    },
    "kernelspec": {
      "name": "python3",
      "display_name": "Python 3"
    },
    "language_info": {
      "name": "python"
    }
  },
  "cells": [
    {
      "cell_type": "markdown",
      "source": [
        "<aside>\n",
        "💡 **Question 1**\n",
        "\n",
        "Given a singly linked list, delete **middle** of the linked list. For example, if given linked list is 1->2->**3**->4->5 then linked list should be modified to 1->2->4->5.If there are **even** nodes, then there would be **two middle** nodes, we need to delete the second middle element. For example, if given linked list is 1->2->3->4->5->6 then it should be modified to 1->2->3->5->6.If the input linked list is NULL or has 1 node, then it should return NULL\n",
        "\n",
        "</aside>"
      ],
      "metadata": {
        "id": "EH1ZHqlaActT"
      }
    },
    {
      "cell_type": "code",
      "execution_count": 2,
      "metadata": {
        "colab": {
          "base_uri": "https://localhost:8080/"
        },
        "id": "MrtHG-RBAcBj",
        "outputId": "20b61da9-22ba-4769-ca5f-41d20d53f3dd"
      },
      "outputs": [
        {
          "output_type": "stream",
          "name": "stdout",
          "text": [
            "1 2 4 5 "
          ]
        }
      ],
      "source": [
        "class ListNode:\n",
        "    def __init__(self, val=0, next=None):\n",
        "        self.val = val\n",
        "        self.next = next\n",
        "\n",
        "def deleteMiddleNode(head):\n",
        "    # Base cases: empty list or list with only one node\n",
        "    if not head or not head.next:\n",
        "        return head\n",
        "\n",
        "    slow = fast = head\n",
        "    prev = None\n",
        "\n",
        "    while fast and fast.next:\n",
        "        fast = fast.next.next\n",
        "        prev = slow\n",
        "        slow = slow.next\n",
        "\n",
        "    # Skip the middle node by updating the previous node's next pointer\n",
        "    prev.next = slow.next\n",
        "\n",
        "    return head\n",
        "\n",
        "# Example 1\n",
        "# LinkedList: 1->2->3->4->5\n",
        "head1 = ListNode(1)\n",
        "head1.next = ListNode(2)\n",
        "head1.next.next = ListNode(3)\n",
        "head1.next.next.next = ListNode(4)\n",
        "head1.next.next.next.next = ListNode(5)\n",
        "\n",
        "head1 = deleteMiddleNode(head1)\n",
        "\n",
        "# Print the modified linked list\n",
        "while head1:\n",
        "    print(head1.val, end=' ')\n",
        "    head1 = head1.next\n"
      ]
    },
    {
      "cell_type": "markdown",
      "source": [
        "<aside>\n",
        "💡 **Question 2**\n",
        "\n",
        "Given a linked list of **N** nodes. The task is to check if the linked list has a loop. Linked list can contain self loop.\n",
        "\n",
        "</aside>\n"
      ],
      "metadata": {
        "id": "21ty3CapAdjp"
      }
    },
    {
      "cell_type": "code",
      "source": [
        "class ListNode:\n",
        "    def __init__(self, val=0, next=None):\n",
        "        self.val = val\n",
        "        self.next = next\n",
        "\n",
        "def hasLoop(head):\n",
        "    if not head or not head.next:\n",
        "        return False\n",
        "\n",
        "    slow = head\n",
        "    fast = head.next\n",
        "\n",
        "    while fast and fast.next:\n",
        "        if slow == fast:\n",
        "            return True\n",
        "\n",
        "        slow = slow.next\n",
        "        fast = fast.next.next\n",
        "\n",
        "    return False\n",
        "\n",
        "# Example 1\n",
        "# LinkedList: 1->3->4\n",
        "head1 = ListNode(1)\n",
        "head1.next = ListNode(3)\n",
        "head1.next.next = ListNode(4)\n",
        "head1.next.next.next = head1.next  # Creating a loop by connecting the tail to the second node\n",
        "\n",
        "print(hasLoop(head1))"
      ],
      "metadata": {
        "colab": {
          "base_uri": "https://localhost:8080/"
        },
        "id": "vUmri6zcAdry",
        "outputId": "226fae9c-cec2-4dfd-ed68-ae70f6c21255"
      },
      "execution_count": 3,
      "outputs": [
        {
          "output_type": "stream",
          "name": "stdout",
          "text": [
            "True\n"
          ]
        }
      ]
    },
    {
      "cell_type": "markdown",
      "source": [
        "<aside>\n",
        "💡 **Question 3**\n",
        "\n",
        "Given a linked list consisting of **L** nodes and given a number **N**. The task is to find the **N**th node from the end of the linked list.\n",
        "\n",
        "</aside>"
      ],
      "metadata": {
        "id": "iCeOV5YBAd0q"
      }
    },
    {
      "cell_type": "code",
      "source": [
        "class Node:\n",
        "    def __init__(self, data):\n",
        "        self.data = data\n",
        "        self.next = None\n",
        "\n",
        "def find_nth_from_end(head, N):\n",
        "    if head is None:\n",
        "        return -1\n",
        "\n",
        "    main_ptr = head\n",
        "    ref_ptr = head\n",
        "\n",
        "    # Move the ref_ptr N nodes ahead\n",
        "    for _ in range(N):\n",
        "        if ref_ptr is None:\n",
        "            return -1\n",
        "        ref_ptr = ref_ptr.next\n",
        "\n",
        "    # Move both pointers until ref_ptr reaches the end\n",
        "    while ref_ptr is not None:\n",
        "        main_ptr = main_ptr.next\n",
        "        ref_ptr = ref_ptr.next\n",
        "\n",
        "    return main_ptr.data\n",
        "# Create the linked list: 1->2->3->4->5->6->7->8->9\n",
        "head = Node(1)\n",
        "head.next = Node(2)\n",
        "head.next.next = Node(3)\n",
        "head.next.next.next = Node(4)\n",
        "head.next.next.next.next = Node(5)\n",
        "head.next.next.next.next.next = Node(6)\n",
        "head.next.next.next.next.next.next = Node(7)\n",
        "head.next.next.next.next.next.next.next = Node(8)\n",
        "head.next.next.next.next.next.next.next.next = Node(9)\n",
        "\n",
        "# Find the Nth node from the end\n",
        "N = 2\n",
        "nth_node = find_nth_from_end(head, N)\n",
        "print(nth_node)\n"
      ],
      "metadata": {
        "colab": {
          "base_uri": "https://localhost:8080/"
        },
        "id": "snhu8k32Ad8L",
        "outputId": "3a293366-f2bf-4d67-c50b-24b884b0523d"
      },
      "execution_count": 4,
      "outputs": [
        {
          "output_type": "stream",
          "name": "stdout",
          "text": [
            "8\n"
          ]
        }
      ]
    },
    {
      "cell_type": "markdown",
      "source": [
        "<aside>\n",
        "💡 **Question 4**\n",
        "\n",
        "Given a singly linked list of characters, write a function that returns true if the given list is a palindrome, else false.\n",
        "\n",
        "</aside>\n"
      ],
      "metadata": {
        "id": "ksq8nPk1AeEt"
      }
    },
    {
      "cell_type": "code",
      "source": [],
      "metadata": {
        "id": "xDTFklZjAeLT"
      },
      "execution_count": null,
      "outputs": []
    },
    {
      "cell_type": "markdown",
      "source": [
        "<aside>\n",
        "💡 **Question 5**\n",
        "\n",
        "Given a linked list of **N** nodes such that it may contain a loop.\n",
        "\n",
        "A loop here means that the last node of the link list is connected to the node at position X(1-based index). If the link list does not have any loop, X=0.\n",
        "\n",
        "Remove the loop from the linked list, if it is present, i.e. unlink the last node which is forming the loop.\n",
        "\n",
        "</aside>\""
      ],
      "metadata": {
        "id": "S1HlZOBGAeS7"
      }
    },
    {
      "cell_type": "code",
      "source": [],
      "metadata": {
        "id": "SL_1T79vAeaK"
      },
      "execution_count": null,
      "outputs": []
    },
    {
      "cell_type": "markdown",
      "source": [
        "<aside>\n",
        "💡 **Question 6**\n",
        "\n",
        "Given a linked list and two integers M and N. Traverse the linked list such that you retain M nodes then delete next N nodes, continue the same till end of the linked list.\n",
        "\n",
        "Difficulty Level: Rookie\n",
        "\n",
        "</aside>"
      ],
      "metadata": {
        "id": "doBicWklAeiT"
      }
    },
    {
      "cell_type": "code",
      "source": [],
      "metadata": {
        "id": "pgPotx9jAeqB"
      },
      "execution_count": null,
      "outputs": []
    },
    {
      "cell_type": "markdown",
      "source": [
        "<aside>\n",
        "💡 **Question 7**\n",
        "\n",
        "Given two linked lists, insert nodes of second list into first list at alternate positions of first list.\n",
        "For example, if first list is 5->7->17->13->11 and second is 12->10->2->4->6, the first list should become 5->12->7->10->17->2->13->4->11->6 and second list should become empty. The nodes of second list should only be inserted when there are positions available. For example, if the first list is 1->2->3 and second list is 4->5->6->7->8, then first list should become 1->4->2->5->3->6 and second list to 7->8.\n",
        "\n",
        "Use of extra space is not allowed (Not allowed to create additional nodes), i.e., insertion must be done in-place. Expected time complexity is O(n) where n is number of nodes in first list.\n",
        "\n",
        "</aside>"
      ],
      "metadata": {
        "id": "TqCM9EfNAexg"
      }
    },
    {
      "cell_type": "code",
      "source": [],
      "metadata": {
        "id": "3vGRYt-4Ae3v"
      },
      "execution_count": null,
      "outputs": []
    },
    {
      "cell_type": "markdown",
      "source": [
        "<aside>\n",
        "💡 **Question 8**\n",
        "\n",
        "Given a singly linked list, find if the linked list is [circular](https://www.geeksforgeeks.org/circular-linked-list/amp/) or not.\n",
        "\n",
        "> A linked list is called circular if it is not NULL-terminated and all nodes are connected in the form of a cycle. Below is an example of a circular linked list.\n",
        ">\n",
        "</aside>"
      ],
      "metadata": {
        "id": "mEdGdVVTAe_a"
      }
    },
    {
      "cell_type": "code",
      "source": [],
      "metadata": {
        "id": "yjJ1txigAfF1"
      },
      "execution_count": null,
      "outputs": []
    }
  ]
}