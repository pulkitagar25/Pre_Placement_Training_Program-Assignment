{
  "nbformat": 4,
  "nbformat_minor": 0,
  "metadata": {
    "colab": {
      "provenance": []
    },
    "kernelspec": {
      "name": "python3",
      "display_name": "Python 3"
    },
    "language_info": {
      "name": "python"
    }
  },
  "cells": [
    {
      "cell_type": "markdown",
      "source": [
        "Question 1\n",
        "\n",
        "Given an array, for each element find the value of the nearest element to the right which is having a frequency greater than that of the current element. If there does not exist an answer for a position, then make the value ‘-1’."
      ],
      "metadata": {
        "id": "kri9J8X87qaX"
      }
    },
    {
      "cell_type": "code",
      "execution_count": 1,
      "metadata": {
        "colab": {
          "base_uri": "https://localhost:8080/"
        },
        "id": "1Fi2RfOL7meT",
        "outputId": "667b0615-d671-41a9-f311-c90dccc9d681"
      },
      "outputs": [
        {
          "output_type": "stream",
          "name": "stdout",
          "text": [
            "[-1, -1, 1, 2, 2, 1, -1]\n"
          ]
        }
      ],
      "source": [
        "def NFG(a, n):\n",
        "\n",
        "    if (n <= 0):\n",
        "        print(\"List empty\")\n",
        "        return []\n",
        "\n",
        "    stack = [0]*n\n",
        "\n",
        "    freq = {}\n",
        "    for i in a:\n",
        "        freq[a[i]] = 0\n",
        "    for i in a:\n",
        "        freq[a[i]] += 1\n",
        "\n",
        "    res = [0]*n\n",
        "\n",
        "    top = -1\n",
        "\n",
        "    top += 1\n",
        "    stack[top] = 0\n",
        "\n",
        "    for i in range(1, n):\n",
        "\n",
        "        if (freq[a[stack[top]]] > freq[a[i]]):\n",
        "            top += 1\n",
        "            stack[top] = i\n",
        "\n",
        "        else:\n",
        "            while (top > -1 and freq[a[stack[top]]] < freq[a[i]]):\n",
        "                res[stack[top]] = a[i]\n",
        "                top -= 1\n",
        "            top += 1\n",
        "            stack[top] = i\n",
        "\n",
        "\n",
        "    while (top > -1):\n",
        "        res[stack[top]] = -1\n",
        "        top -= 1\n",
        "\n",
        "    return res\n",
        "\n",
        "# Driver Code\n",
        "print(NFG([1, 1, 2, 3, 4, 2, 1], 7))"
      ]
    },
    {
      "cell_type": "markdown",
      "source": [
        "Question 2\n",
        "\n",
        "Given a stack of integers, sort it in ascending order using another temporary stack."
      ],
      "metadata": {
        "id": "sQD8EsNd7nZa"
      }
    },
    {
      "cell_type": "code",
      "source": [
        "def sortStack ( stack ):\n",
        "    tmpStack = createStack()\n",
        "    while(isEmpty(stack) == False):\n",
        "\n",
        "        tmp = top(stack)\n",
        "        pop(stack)\n",
        "\n",
        "        while(isEmpty(tmpStack) == False and\n",
        "             int(top(tmpStack)) < int(tmp)):\n",
        "\n",
        "            push(stack,top(tmpStack))\n",
        "            pop(tmpStack)\n",
        "\n",
        "        push(tmpStack,tmp)\n",
        "\n",
        "    return tmpStack\n",
        "\n",
        "def createStack():\n",
        "    stack = []\n",
        "    return stack\n",
        "\n",
        "def isEmpty( stack ):\n",
        "    return len(stack) == 0\n",
        "\n",
        "def push( stack, item ):\n",
        "    stack.append( item )\n",
        "\n",
        "def top( stack ):\n",
        "    p = len(stack)\n",
        "    return stack[p-1]\n",
        "\n",
        "def pop( stack ):\n",
        "\n",
        "    if(isEmpty( stack )):\n",
        "        print(\"Stack Underflow \")\n",
        "        exit(1)\n",
        "\n",
        "    return stack.pop()\n",
        "\n",
        "def prints(stack):\n",
        "    for i in range(len(stack)-1, -1, -1):\n",
        "        print(stack[i], end = ' ')\n",
        "    print()\n",
        "\n",
        "# Driver Code\n",
        "stack = createStack()\n",
        "push( stack, str(34) )\n",
        "push( stack, str(3) )\n",
        "push( stack, str(31) )\n",
        "push( stack, str(98) )\n",
        "push( stack, str(92) )\n",
        "push( stack, str(23) )\n",
        "\n",
        "print(\"Sorted numbers are: \")\n",
        "sortedst = sortStack ( stack )\n",
        "prints(sortedst)"
      ],
      "metadata": {
        "colab": {
          "base_uri": "https://localhost:8080/"
        },
        "id": "JJWVQnHx7nhy",
        "outputId": "2e2f3055-3665-4337-c646-ed035bc9b7a4"
      },
      "execution_count": 2,
      "outputs": [
        {
          "output_type": "stream",
          "name": "stdout",
          "text": [
            "Sorted numbers are: \n",
            "3 23 31 34 92 98 \n"
          ]
        }
      ]
    },
    {
      "cell_type": "markdown",
      "source": [
        "Question 3\n",
        "\n",
        "Given a stack with push(), pop(), and empty() operations, The task is to delete the middle element ****of it without using any additional data structure."
      ],
      "metadata": {
        "id": "2vrxy4FD7nrB"
      }
    },
    {
      "cell_type": "code",
      "source": [
        "import math\n",
        "\n",
        "st = []\n",
        "st.append('1')\n",
        "st.append('2')\n",
        "st.append('3')\n",
        "st.append('4')\n",
        "st.append('5')\n",
        "st.append('6')\n",
        "st.append('7')\n",
        "\n",
        "v = []\n",
        "\n",
        "while(len(st) > 0):\n",
        "    v.append(st[0])\n",
        "    del st[0]\n",
        "\n",
        "n = len(v)\n",
        "\n",
        "if n%2==0:\n",
        "    target = math.floor(n/2)\n",
        "    for i in range(0, n):\n",
        "        if i==target:\n",
        "            continue\n",
        "        st.append(v[i])\n",
        "else:\n",
        "    target = math.floor(n/2)\n",
        "    for i in range(0, n):\n",
        "        if i==target:\n",
        "            continue\n",
        "        st.append(v[i])\n",
        "\n",
        "print(\"Printing stack after deletion of middle:\", end = \" \")\n",
        "\n",
        "while (len(st) > 0):\n",
        "    p = st[0]\n",
        "    del st[0]\n",
        "    print(p, end = \" \")"
      ],
      "metadata": {
        "colab": {
          "base_uri": "https://localhost:8080/"
        },
        "id": "iWBNEBVE7nyB",
        "outputId": "685bd0b9-514e-4a2e-e5f7-fb9e65e2d155"
      },
      "execution_count": 3,
      "outputs": [
        {
          "output_type": "stream",
          "name": "stdout",
          "text": [
            "Printing stack after deletion of middle: 1 2 3 5 6 7 "
          ]
        }
      ]
    },
    {
      "cell_type": "markdown",
      "source": [
        "Question 4\n",
        "\n",
        "Given a Queue consisting of first n natural numbers (in random order). The task is to check whether the given Queue elements can be arranged in increasing order in another Queue using a stack. The operation allowed are:\n",
        "\n",
        "Push and pop elements from the stack\n",
        "\n",
        "Pop (Or Dequeue) from the given Queue.\n",
        "\n",
        "Push (Or Enqueue) in the another Queue."
      ],
      "metadata": {
        "id": "4JMqWDaY7n4_"
      }
    },
    {
      "cell_type": "code",
      "source": [],
      "metadata": {
        "id": "looaUncn7n-r"
      },
      "execution_count": null,
      "outputs": []
    },
    {
      "cell_type": "markdown",
      "source": [
        "Question 5\n",
        "\n",
        "Given a number , write a program to reverse this number using stack."
      ],
      "metadata": {
        "id": "VU6vq9ot7oHN"
      }
    },
    {
      "cell_type": "code",
      "source": [
        "st = [];\n",
        "\n",
        "def push_digits(number):\n",
        "\n",
        "    while (number != 0):\n",
        "        st.append(number % 10);\n",
        "        number = int(number / 10);\n",
        "\n",
        "def reverse_number(number):\n",
        "\n",
        "    push_digits(number);\n",
        "\n",
        "    reverse = 0;\n",
        "    i = 1;\n",
        "\n",
        "\n",
        "    while (len(st) > 0):\n",
        "        reverse = reverse + (st[len(st) - 1] * i);\n",
        "        st.pop();\n",
        "        i = i * 10;\n",
        "\n",
        "\n",
        "    return reverse;\n",
        "\n",
        "# Driver Code\n",
        "number = 365;\n",
        "\n",
        "print(reverse_number(number));"
      ],
      "metadata": {
        "colab": {
          "base_uri": "https://localhost:8080/"
        },
        "id": "9qj1Dgzw7oNc",
        "outputId": "2c7218a3-b267-479d-d526-694a99ecfa5b"
      },
      "execution_count": 4,
      "outputs": [
        {
          "output_type": "stream",
          "name": "stdout",
          "text": [
            "563\n"
          ]
        }
      ]
    },
    {
      "cell_type": "markdown",
      "source": [
        "Question 6\n",
        "\n",
        "Given an integer k and a queue of integers, The task is to reverse the order of the first k elements of the queue, leaving the other elements in the same relative order. Only following standard operations are allowed on queue."
      ],
      "metadata": {
        "id": "JeFXKz5r7oT8"
      }
    },
    {
      "cell_type": "code",
      "source": [],
      "metadata": {
        "id": "SnbCA3247oaI"
      },
      "execution_count": null,
      "outputs": []
    },
    {
      "cell_type": "markdown",
      "source": [
        "Question 7\n",
        "\n",
        "Given a sequence of n strings, the task is to check if any two similar words come together and then destroy each other then print the number of words left in the sequence after this pairwise destruction."
      ],
      "metadata": {
        "id": "m-FS-urs7oha"
      }
    },
    {
      "cell_type": "code",
      "source": [],
      "metadata": {
        "id": "9F4hlib-7omy"
      },
      "execution_count": null,
      "outputs": []
    },
    {
      "cell_type": "markdown",
      "source": [
        "Question 8\n",
        "\n",
        "Given an array of integers, the task is to find the maximum absolute difference between the nearest left and the right smaller element of every element in the array.\n",
        "\n",
        "Note: If there is no smaller element on right side or left side of any element then we take zero as the smaller element. For example for the leftmost element, the nearest smaller element on the left side is considered as 0. Similarly, for rightmost elements, the smaller element on the right side is considered as 0"
      ],
      "metadata": {
        "id": "k-NIKYH17oto"
      }
    },
    {
      "cell_type": "code",
      "source": [],
      "metadata": {
        "id": "UNsKkWdh7ozp"
      },
      "execution_count": null,
      "outputs": []
    }
  ]
}