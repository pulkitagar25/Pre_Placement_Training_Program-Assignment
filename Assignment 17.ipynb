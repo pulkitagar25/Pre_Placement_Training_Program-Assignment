{
  "nbformat": 4,
  "nbformat_minor": 0,
  "metadata": {
    "colab": {
      "provenance": []
    },
    "kernelspec": {
      "name": "python3",
      "display_name": "Python 3"
    },
    "language_info": {
      "name": "python"
    }
  },
  "cells": [
    {
      "cell_type": "markdown",
      "source": [
        "Question 1\n",
        "\n",
        "Given a string s, find the first non-repeating character in it and return its index. If it does not exist, return -1."
      ],
      "metadata": {
        "id": "1CgPpwrs8LEM"
      }
    },
    {
      "cell_type": "code",
      "execution_count": 1,
      "metadata": {
        "colab": {
          "base_uri": "https://localhost:8080/"
        },
        "id": "A4-ZBBuN8KXc",
        "outputId": "3cca4c64-3b0e-47a1-c9a3-56f2c16d7d22"
      },
      "outputs": [
        {
          "output_type": "stream",
          "name": "stdout",
          "text": [
            "First non-repeating character is I\n"
          ]
        }
      ],
      "source": [
        "string = \"INEURON\"\n",
        "index = -1\n",
        "fnc = \"\"\n",
        "\n",
        "if len(string) == 0 :\n",
        "    print(\"EMTPY STRING\")\n",
        "\n",
        "for i in string:\n",
        "    if string.count(i) == 1:\n",
        "        fnc += i\n",
        "        break\n",
        "    else:\n",
        "        index += 1\n",
        "if index == len(string)-1 :\n",
        "    print(\"All characters are repeating \")\n",
        "else:\n",
        "    print(\"First non-repeating character is\", fnc)"
      ]
    },
    {
      "cell_type": "markdown",
      "source": [
        "Question 2\n",
        "\n",
        "Given a circular integer array nums of length n, return the maximum possible sum of a non-empty subarray of nums.\n",
        "\n",
        "A circular array means the end of the array connects to the beginning of the array. Formally, the next element of nums[i] is nums[(i + 1) % n] and the previous element of nums[i] is nums[(i - 1 + n) % n].\n",
        "\n",
        "A subarray may only include each element of the fixed buffer nums at most once. Formally, for a subarray nums[i], nums[i + 1], ..., nums[j], there does not exist i <= k1, k2 <= j with k1 % n == k2 % n."
      ],
      "metadata": {
        "id": "ouc3tg6J8L-Z"
      }
    },
    {
      "cell_type": "code",
      "source": [],
      "metadata": {
        "id": "z_SHyJR88MFV"
      },
      "execution_count": null,
      "outputs": []
    },
    {
      "cell_type": "markdown",
      "source": [
        "Question 3\n",
        "\n",
        "The school cafeteria offers circular and square sandwiches at lunch break, referred to by numbers 0 and 1 respectively. All students stand in a queue. Each student either prefers square or circular sandwiches.\n",
        "\n",
        "The number of sandwiches in the cafeteria is equal to the number of students. The sandwiches are placed in a stack. At each step:\n",
        "\n",
        "If the student at the front of the queue prefers the sandwich on the top of the stack, they will take it and leave the queue.\n",
        "\n",
        "Otherwise, they will leave it and go to the queue's end.\n",
        "\n",
        "This continues until none of the queue students want to take the top sandwich and are thus unable to eat.\n",
        "\n",
        "You are given two integer arrays students and sandwiches where sandwiches[i] is the type of the ith sandwich in the stack (i = 0 is the top of the stack) and students[j] is the preference of the jth student in the initial queue (j = 0 is the front of the queue). Return the number of students that are unable to eat."
      ],
      "metadata": {
        "id": "2vHA2KN68MMl"
      }
    },
    {
      "cell_type": "code",
      "source": [
        "from collections import Counter\n",
        "\n",
        "\n",
        "class Solution:\n",
        "    def countStudents(self, students, sandwiches) -> int:\n",
        "        cnt = Counter(students)\n",
        "        for v in sandwiches:\n",
        "            if cnt[v] == 0:\n",
        "                return cnt[v ^ 1]\n",
        "            cnt[v] -= 1\n",
        "        return 0\n",
        "\n",
        "students = [1,1,0,0]\n",
        "sandwiches = [0,1,0,1]\n",
        "\n",
        "s = Solution()\n",
        "s.countStudents(students,sandwiches)"
      ],
      "metadata": {
        "colab": {
          "base_uri": "https://localhost:8080/"
        },
        "id": "vNAS4aHB8MWC",
        "outputId": "406382ea-1be8-482e-b493-cf0f6fee746f"
      },
      "execution_count": 2,
      "outputs": [
        {
          "output_type": "execute_result",
          "data": {
            "text/plain": [
              "0"
            ]
          },
          "metadata": {},
          "execution_count": 2
        }
      ]
    },
    {
      "cell_type": "markdown",
      "source": [
        "Question 4\n",
        "\n",
        "You have a RecentCounter class which counts the number of recent requests within a certain time frame.\n",
        "\n",
        "Implement the RecentCounter class:\n",
        "\n",
        "RecentCounter() Initializes the counter with zero recent requests.\n",
        "\n",
        "int ping(int t) Adds a new request at time t, where t represents some time in milliseconds, and returns the number of requests that has happened in the past 3000 milliseconds (including the new request). Specifically, return the number of requests that have happened in the inclusive range [t - 3000, t].\n",
        "\n",
        "It is guaranteed that every call to ping uses a strictly larger value of t than the previous call."
      ],
      "metadata": {
        "id": "ThoFlQYJ8MnL"
      }
    },
    {
      "cell_type": "code",
      "source": [
        "from collections import deque\n",
        "\n",
        "class RecentCounter:\n",
        "    def __init__(self):\n",
        "        self.q = deque()\n",
        "\n",
        "    def ping(self, t: int) -> int:\n",
        "        self.q.append(t)\n",
        "        while self.q[0] < t - 3000:\n",
        "            self.q.popleft()\n",
        "        return len(self.q)\n",
        "\n",
        "\n",
        "obj = RecentCounter()\n",
        "param_1 = obj.ping(1)\n",
        "param_1"
      ],
      "metadata": {
        "colab": {
          "base_uri": "https://localhost:8080/"
        },
        "id": "ISLWSo8J8Mwh",
        "outputId": "b63c4b34-98c2-4e41-a2e8-b7e7eccacf7a"
      },
      "execution_count": 3,
      "outputs": [
        {
          "output_type": "execute_result",
          "data": {
            "text/plain": [
              "1"
            ]
          },
          "metadata": {},
          "execution_count": 3
        }
      ]
    },
    {
      "cell_type": "markdown",
      "source": [
        "Question 5\n",
        "\n",
        "There are n friends that are playing a game. The friends are sitting in a circle and are numbered from 1 to n in clockwise order. More formally, moving clockwise from the ith friend brings you to the (i+1)th friend for 1 <= i < n, and moving clockwise from the nth friend brings you to the 1st friend."
      ],
      "metadata": {
        "id": "2hF68Efk8M4E"
      }
    },
    {
      "cell_type": "code",
      "source": [
        "class Solution:\n",
        "    def findTheWinner(self, n: int, k: int) -> int:\n",
        "        if n == 1:\n",
        "            return 1\n",
        "        ans = (k + self.findTheWinner(n - 1, k)) % n\n",
        "        return n if ans == 0 else ans\n",
        "\n",
        "n = 5\n",
        "k = 2\n",
        "s = Solution()\n",
        "s.findTheWinner(n,k)"
      ],
      "metadata": {
        "colab": {
          "base_uri": "https://localhost:8080/"
        },
        "id": "XbQCUvre8M-2",
        "outputId": "ab6ac0af-5a71-4285-938f-4030d053cd88"
      },
      "execution_count": 4,
      "outputs": [
        {
          "output_type": "execute_result",
          "data": {
            "text/plain": [
              "3"
            ]
          },
          "metadata": {},
          "execution_count": 4
        }
      ]
    },
    {
      "cell_type": "markdown",
      "source": [
        "Question 6\n",
        "\n",
        "You are given an integer array deck. There is a deck of cards where every card has a unique integer. The integer on the ith card is deck[i].You can order the deck in any order you want. Initially, all the cards start face down (unrevealed) in one deck"
      ],
      "metadata": {
        "id": "eHHxicGj8NGd"
      }
    },
    {
      "cell_type": "code",
      "source": [],
      "metadata": {
        "id": "XslcQE2v8NMy"
      },
      "execution_count": null,
      "outputs": []
    },
    {
      "cell_type": "markdown",
      "source": [
        "Question 7\n",
        "Design a queue that supports push and pop operations in the front, middle, and back.\n",
        "Implement the FrontMiddleBack class:\n",
        "FrontMiddleBack() Initializes the queue.\n",
        "void pushFront(int val) Adds val to the front of the queue.\n",
        "void pushMiddle(int val) Adds val to the middle of the queue.\n",
        "void pushBack(int val) Adds val to the back of the queue.\n",
        "int popFront() Removes the front element of the queue and returns it. If the queue is empty, return 1.\n",
        "int popMiddle() Removes the middle element of the queue and returns it. If the queue is empty, return 1.\n",
        "int popBack() Removes the back element of the queue and returns it. If the queue is empty, return 1.\n",
        "Notice that when there are two middle position choices, the operation is performed on the frontmost** middle position choice. For example:\n",
        "Pushing 6 into the middle of [1, 2, 3, 4, 5] results in [1, 2, 6, 3, 4, 5].\n",
        "Popping the middle from [1, 2, 3, 4, 5, 6] returns 3 and results in [1, 2, 4, 5, 6].\n",
        "Example 1:\n",
        "Input:\n",
        "[\"FrontMiddleBackQueue\", \"pushFront\", \"pushBack\", \"pushMiddle\", \"pushMiddle\", \"popFront\", \"popMiddle\", \"popMiddle\", \"popBack\", \"popFront\"]\n",
        "[[], [1], [2], [3], [4], [], [], [], [], []]\n",
        "Output:\n",
        "[null, null, null, null, null, 1, 3, 4, 2, -1]\n",
        "\n",
        "Explanation:\n",
        "FrontMiddleBackQueue q = new FrontMiddleBackQueue();\n",
        "q.pushFront(1);   // [1]\n",
        "q.pushBack(2);    // [1,2]\n",
        "q.pushMiddle(3);  // [1,3, 2]\n",
        "q.pushMiddle(4);  // [1,4, 3, 2]\n",
        "q.popFront();     // return 1 -> [4, 3, 2]\n",
        "q.popMiddle();    // return 3 -> [4, 2]\n",
        "q.popMiddle();    // return 4 -> [2]\n",
        "q.popBack();      // return 2 -> []\n",
        "q.popFront();     // return -1 -> [] (The queue is empty)"
      ],
      "metadata": {
        "id": "rOsuhlc68NUi"
      }
    },
    {
      "cell_type": "code",
      "source": [],
      "metadata": {
        "id": "Pot65l8J8Na-"
      },
      "execution_count": null,
      "outputs": []
    },
    {
      "cell_type": "markdown",
      "source": [
        "Question 8\n",
        "\n",
        "For a stream of integers, implement a data structure that checks if the last k integers parsed in the stream are equal to value.\n",
        "Implement the DataStream class:\n",
        "DataStream(int value, int k) Initializes the object with an empty integer stream and the two integers value and k.\n",
        "boolean consec(int num) Adds num to the stream of integers. Returns true if the last k integers are equal to value, and false otherwise. If there are less than k integers, the condition does not hold true, so returns false."
      ],
      "metadata": {
        "id": "ffvD8NYU8NkJ"
      }
    },
    {
      "cell_type": "code",
      "source": [],
      "metadata": {
        "id": "V5MiUX0N8Nqb"
      },
      "execution_count": null,
      "outputs": []
    }
  ]
}